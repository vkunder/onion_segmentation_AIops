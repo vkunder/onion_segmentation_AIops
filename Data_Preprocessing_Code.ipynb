{
 "cells": [
  {
   "cell_type": "code",
   "execution_count": 1,
   "id": "7225c963-b3d2-4ad0-a477-67e85b57eb4a",
   "metadata": {},
   "outputs": [],
   "source": [
    "img_msk_dir = r\"/home/agrograde/Desktop/1st_july_2024/img_msk\"\n",
    "val_img_msk = r\"/home/agrograde/Desktop/1st_july_2024/val_img_msk\""
   ]
  },
  {
   "cell_type": "code",
   "execution_count": 2,
   "id": "d20b3172-7493-434b-8f5a-86bb093e2ffb",
   "metadata": {},
   "outputs": [],
   "source": [
    "import os\n",
    "import shutil"
   ]
  },
  {
   "cell_type": "code",
   "execution_count": 9,
   "id": "14cb8743-6255-4480-9d7e-b4e3e222ff6d",
   "metadata": {},
   "outputs": [],
   "source": [
    "img = []\n",
    "for i in os.listdir(img_msk_dir):\n",
    "    if i.endswith(\".jpg\"):\n",
    "        img_name = i[:-4]\n",
    "        img.append(img_name)\n",
    "\n",
    "for i in img:\n",
    "    if os.path.exists(os.path.join(img_msk_dir,i+\"_color_mask.png\")):\n",
    "        mask_src = os.path.join(img_msk_dir,i+\"_color_mask.png\")\n",
    "        img_src = os.path.join(img_msk_dir,i+\".jpg\")\n",
    "        dest_msk_path = os.path.join(val_img_msk,i+\"_color_mask.png\")\n",
    "        dest_img_path = os.path.join(val_img_msk,i+\".jpg\")\n",
    "        shutil.copy(mask_src,dest_msk_path)\n",
    "        shutil.copy(img_src,dest_img_path)\n",
    "\n"
   ]
  },
  {
   "cell_type": "markdown",
   "id": "fceebe4f-e82b-46af-9181-5a5c55566ae3",
   "metadata": {},
   "source": [
    "### Binary mask generation"
   ]
  },
  {
   "cell_type": "code",
   "execution_count": 10,
   "id": "65a72e42-1820-4c6b-9e9f-feb2092dfcb4",
   "metadata": {},
   "outputs": [],
   "source": [
    "\n",
    "import os\n",
    "\n",
    "# Directory where folders will be created\n",
    "directory = r\"/home/agrograde/Desktop/1st_july_2024/image_path\"\n",
    "\n",
    "# List of folder names\n",
    "folders=['images','Background','Black_skin','Black_smut','Damaged','Double','Fungus','Hollow_stem','Onion','Peeled','Rotten','Sprout','White_onion','Winter_onion']\n",
    "#folders=['images','Background','Black_smut','Peeled','Rotten','Sprout']\n",
    "\n",
    "# Loop through the list of folders and create each folder\n",
    "for folder in folders:\n",
    "    # Create the full path for the folder\n",
    "    folder_path = os.path.join(directory, folder)\n",
    "    # Create the folder if it doesn't exist already\n",
    "    if not os.path.exists(folder_path):\n",
    "        os.makedirs(folder_path)\n"
   ]
  },
  {
   "cell_type": "code",
   "execution_count": 11,
   "id": "ec8468c6-4531-4b85-8ba3-2183a98cfb09",
   "metadata": {},
   "outputs": [
    {
     "name": "stderr",
     "output_type": "stream",
     "text": [
      "100%|███████████████████████████████████████| 6158/6158 [19:26<00:00,  5.28it/s]"
     ]
    },
    {
     "name": "stdout",
     "output_type": "stream",
     "text": [
      "['260624_0122_.jpg']\n"
     ]
    },
    {
     "name": "stderr",
     "output_type": "stream",
     "text": [
      "\n"
     ]
    }
   ],
   "source": [
    "# Final Final for naming\n",
    "\"\"\"For using this code first create 2 folder first for storing original image and second for storing binary mask\n",
    "in this folder create 12 folder named discolored,cuts, holes etc. With Proper names\n",
    "\n",
    "\"\"\"\n",
    "import shutil\n",
    "import re\n",
    "import os\n",
    "import cv2\n",
    "import numpy as np\n",
    "from tqdm import tqdm\n",
    "\n",
    "all_images_with_annotations =r\"/home/agrograde/Desktop/1st_july_2024/val_img_msk\"\n",
    "all_original_dir=r'/home/agrograde/Desktop/1st_july_2024/image_path/images'\n",
    "all_binary_mask_dir=r\"/home/agrograde/Desktop/1st_july_2024/image_path\"\n",
    "def create_mask(img,filename,all_binary_mask_dir):\n",
    "\n",
    "\n",
    "    Background_threshold = (11,255,45) \n",
    "    Black_skin_threshold = (128,128,0) \n",
    "    Black_smut_threshold = (43,59,60)\n",
    "    Damaged_threshold=(255,255,255)\n",
    "    Double_threshold = (255,255,0)\n",
    "    Fungus_threshold = (128,136,217) \n",
    "    Hollow_stem_threshold = (0,0,255)\n",
    "    Onion_threshold = (21,9,85) \n",
    "    Peeled_threshold =(255,51,252) \n",
    "    Rotten_threshold = (34,126,230) \n",
    "    Sprout_threshold =(0,255,255) \n",
    "    White_onion_threshold = (204,204,255) \n",
    "    Winter_onion_threshold =(76,0,153) \n",
    "\n",
    "\n",
    "\n",
    "\n",
    "    # Create the masks for the different features\n",
    "    Background_mask = np.zeros(img.shape[:2], np.uint8)\n",
    "    Background_mask[(img == Background_threshold).all(axis=-1)] = 255\n",
    "#     Black_skin_threshold\n",
    "    Black_skin_mask = np.zeros(img.shape[:2], np.uint8)\n",
    "    Black_skin_mask[(img == Black_skin_threshold).all(axis=-1)] = 255\n",
    "    \n",
    "    Black_smut_mask = np.zeros(img.shape[:2], np.uint8)\n",
    "    Black_smut_mask[(img == Black_smut_threshold).all(axis=-1)] = 255\n",
    "    \n",
    "    Damaged_mask = np.zeros(img.shape[:2], np.uint8)\n",
    "    Damaged_mask[(img == Damaged_threshold).all(axis=-1)] = 255\n",
    "    \n",
    "    Double_mask = np.zeros(img.shape[:2], np.uint8)\n",
    "    Double_mask[(img == Double_threshold).all(axis=-1)] = 255\n",
    "    \n",
    "    Fungus_mask = np.zeros(img.shape[:2], np.uint8)\n",
    "    Fungus_mask[(img == Fungus_threshold).all(axis=-1)] = 255\n",
    "    \n",
    "    Hollow_stem_mask = np.zeros(img.shape[:2], np.uint8)\n",
    "    Hollow_stem_mask[(img == Hollow_stem_threshold).all(axis=-1)] = 255\n",
    "    \n",
    "    Onion_mask = np.zeros(img.shape[:2], np.uint8)\n",
    "    Onion_mask[(img == Onion_threshold).all(axis=-1)] = 255\n",
    "    \n",
    "    Peeled_mask = np.zeros(img.shape[:2], np.uint8)\n",
    "    Peeled_mask[(img == Peeled_threshold).all(axis=-1)] = 255\n",
    "    \n",
    "    Rotten_mask = np.zeros(img.shape[:2], np.uint8)\n",
    "    Rotten_mask[(img == Rotten_threshold).all(axis=-1)] = 255\n",
    "    \n",
    "    Sprout_mask = np.zeros(img.shape[:2], np.uint8)\n",
    "    Sprout_mask[(img == Sprout_threshold).all(axis=-1)] = 255\n",
    "    \n",
    "    White_onion_mask = np.zeros(img.shape[:2], np.uint8)\n",
    "    White_onion_mask[(img == White_onion_threshold).all(axis=-1)] = 255\n",
    "\n",
    "    Winter_onion_mask = np.zeros(img.shape[:2], np.uint8)\n",
    "    Winter_onion_mask[(img == Winter_onion_threshold).all(axis=-1)] = 255\n",
    "\n",
    "\n",
    "\n",
    "    \n",
    "\n",
    "    # Apply the masks\n",
    "    Background_result = cv2.bitwise_and(img, img, mask=Background_mask)\n",
    "    #converting \n",
    "    Background_result = cv2.cvtColor(Background_result,cv2.COLOR_BGR2GRAY)\n",
    "    Background_result[Background_result[:,:]>0]=255\n",
    "    Background_result = cv2.bitwise_not(Background_result)\n",
    "    \n",
    "    Black_skin_result = cv2.bitwise_and(img, img, mask=Black_skin_mask)\n",
    "    Black_skin_result = cv2.cvtColor(Black_skin_result,cv2.COLOR_BGR2GRAY)\n",
    "    Black_skin_result[Black_skin_result[:,:]>0]=255\n",
    "    \n",
    "    Black_smut_result = cv2.bitwise_and(img, img, mask=Black_smut_mask)\n",
    "    Black_smut_result = cv2.cvtColor(Black_smut_result,cv2.COLOR_BGR2GRAY)\n",
    "    Black_smut_result[Black_smut_result[:,:]>0]=255\n",
    "    \n",
    "    Damaged_result = cv2.bitwise_and(img, img, mask=Damaged_mask)\n",
    "    Damaged_result = cv2.cvtColor(Damaged_result,cv2.COLOR_BGR2GRAY)\n",
    "    Damaged_result[Damaged_result[:,:]>0]=255\n",
    "    \n",
    "    Double_result = cv2.bitwise_and(img, img, mask=Double_mask)\n",
    "    Double_result = cv2.cvtColor(Double_result,cv2.COLOR_BGR2GRAY)\n",
    "    Double_result[Double_result[:,:]>0]=255\n",
    "    \n",
    "    Fungus_result = cv2.bitwise_and(img, img, mask=Fungus_mask)\n",
    "    Fungus_result = cv2.cvtColor(Fungus_result,cv2.COLOR_BGR2GRAY)\n",
    "    Fungus_result[Fungus_result[:,:]>0]=255\n",
    "    \n",
    "    Hollow_stem_result = cv2.bitwise_and(img, img, mask=Hollow_stem_mask)\n",
    "    Hollow_stem_result = cv2.cvtColor(Hollow_stem_result,cv2.COLOR_BGR2GRAY)\n",
    "    Hollow_stem_result[Hollow_stem_result[:,:]>0]=255\n",
    "    \n",
    "    Onion_result = cv2.bitwise_and(img, img, mask=Onion_mask)\n",
    "    Onion_result = cv2.cvtColor(Onion_result,cv2.COLOR_BGR2GRAY)\n",
    "    Onion_result[Onion_result[:,:]>0]=255\n",
    "    \n",
    "    Peeled_result = cv2.bitwise_and(img, img, mask=Peeled_mask)\n",
    "    Peeled_result = cv2.cvtColor(Peeled_result,cv2.COLOR_BGR2GRAY)\n",
    "    Peeled_result[Peeled_result[:,:]>0]=255\n",
    "\n",
    "    Rotten_result = cv2.bitwise_and(img, img, mask=Rotten_mask)\n",
    "    Rotten_result = cv2.cvtColor(Rotten_result,cv2.COLOR_BGR2GRAY)\n",
    "    Rotten_result[Rotten_result[:,:]>0]=255\n",
    "    \n",
    "    Sprout_result = cv2.bitwise_and(img, img, mask=Sprout_mask)\n",
    "    Sprout_result = cv2.cvtColor(Sprout_result,cv2.COLOR_BGR2GRAY)\n",
    "    Sprout_result[Sprout_result[:,:]>0]=255\n",
    "    \n",
    "    White_onion_result = cv2.bitwise_and(img, img, mask=White_onion_mask)\n",
    "    White_onion_result = cv2.cvtColor(White_onion_result,cv2.COLOR_BGR2GRAY)\n",
    "    White_onion_result[White_onion_result[:,:]>0]=255\n",
    "    \n",
    "    Winter_onion_result = cv2.bitwise_and(img, img, mask=Winter_onion_mask)\n",
    "    Winter_onion_result = cv2.cvtColor(Winter_onion_result,cv2.COLOR_BGR2GRAY)\n",
    "    Winter_onion_result[Winter_onion_result[:,:]>0]=255\n",
    "  \n",
    "      #for proper nameing\n",
    "    filename1=filename[:-15]+'.jpg'\n",
    "    filename2=filename[:-15]+'.jpg'\n",
    "    filename3=filename[:-15]+'.jpg'\n",
    "    filename4=filename[:-15]+'.jpg'\n",
    "    filename5=filename[:-15]+'.jpg'\n",
    "    filename6=filename[:-15]+'.jpg'\n",
    "    filename7=filename[:-15]+'.jpg'\n",
    "    filename8=filename[:-15]+'.jpg'\n",
    "    filename9=filename[:-15]+'.jpg'\n",
    "    filename10=filename[:-15]+'.jpg'\n",
    "    filename11=filename[:-15]+'.jpg'\n",
    "    filename12=filename[:-15]+'.jpg'\n",
    "    filename13=filename[:-15]+'.jpg'\n",
    "#folders=['images','Background','Black_skin','Black_smut','Damaged','Double','Fungus','Hollow_stem',\n",
    "# 'Onion','Peeled','Rotten','Sprout','White_onion','Winter_onion']\n",
    "\n",
    "    # Save the image\n",
    "    cv2.imwrite(os.path.join(all_binary_mask_dir ,'Background',filename1), Background_result)\n",
    "    cv2.imwrite(os.path.join(all_binary_mask_dir,'Black_skin',filename2), Black_skin_result)\n",
    "    cv2.imwrite(os.path.join(all_binary_mask_dir,'Black_smut',filename3), Black_smut_result)\n",
    "    cv2.imwrite(os.path.join(all_binary_mask_dir,'Damaged',filename4), Damaged_result)\n",
    "    cv2.imwrite(os.path.join(all_binary_mask_dir,'Double',filename5), Double_result)\n",
    "    cv2.imwrite(os.path.join(all_binary_mask_dir,'Fungus',filename6), Fungus_result)\n",
    "    cv2.imwrite(os.path.join(all_binary_mask_dir,'Hollow_stem',filename7), Hollow_stem_result)\n",
    "    cv2.imwrite(os.path.join(all_binary_mask_dir,'Onion',filename8), Onion_result)\n",
    "    cv2.imwrite(os.path.join(all_binary_mask_dir,'Peeled',filename9), Peeled_result)\n",
    "    cv2.imwrite(os.path.join(all_binary_mask_dir,'Sprout',filename10),Sprout_result )\n",
    "    cv2.imwrite(os.path.join(all_binary_mask_dir,'Rotten',filename11),Rotten_result )\n",
    "    cv2.imwrite(os.path.join(all_binary_mask_dir,'White_onion',filename12), White_onion_result)\n",
    "    cv2.imwrite(os.path.join(all_binary_mask_dir,'Winter_onion',filename12), Winter_onion_result)  \n",
    "# Destroy all windows\n",
    "    #cv2.destroyAllWindows()\n",
    "\n",
    "# Create the directory to save the noisy images, if it doesn't exist\n",
    "if not os.path.exists(all_binary_mask_dir):\n",
    "    os.makedirs(all_binary_mask_dir)\n",
    "    \n",
    "error_file=[]    \n",
    "# Loop through all images in the original images directory\n",
    "for filename in tqdm(os.listdir(all_images_with_annotations)):\n",
    "    pattern = r'^[\\d_]+$'   \n",
    "    #first if for selecting only color mask images and applying function\n",
    "    if (filename[-15:]== \"_color_mask.png\"):\n",
    "        img = cv2.imread(os.path.join(all_images_with_annotations, filename))\n",
    "    \n",
    "        create_mask(img,filename,all_binary_mask_dir)\n",
    "    \n",
    "    #Second  if for storing original images in given dir\n",
    "    if (filename[-4:]=='.jpg'):\n",
    "        \n",
    "        # create the full path to the source image file\n",
    "        src_image_path = os.path.join(all_images_with_annotations, filename)\n",
    "        # create the full path to the destination image file\n",
    "        dest_image_path = os.path.join(all_original_dir, filename)\n",
    "        shutil.copy(src_image_path, dest_image_path)\n",
    "        \n",
    "else:\n",
    "    error_file.append(filename)\n",
    "        \n",
    "print(error_file)"
   ]
  },
  {
   "cell_type": "code",
   "execution_count": null,
   "id": "b842d55a-3f19-4319-87ae-263667643f2f",
   "metadata": {},
   "outputs": [],
   "source": []
  },
  {
   "cell_type": "markdown",
   "id": "50dd5256-5848-4ea7-8d4f-45696c2b6de3",
   "metadata": {},
   "source": [
    "## Training Stats"
   ]
  },
  {
   "cell_type": "code",
   "execution_count": 12,
   "id": "a2c47110-50eb-4df9-9eb3-c3268ac3052a",
   "metadata": {},
   "outputs": [
    {
     "name": "stdout",
     "output_type": "stream",
     "text": [
      "Background\n"
     ]
    },
    {
     "name": "stderr",
     "output_type": "stream",
     "text": [
      "100%|██████████████████████████████████████| 3079/3079 [00:10<00:00, 288.72it/s]\n"
     ]
    },
    {
     "name": "stdout",
     "output_type": "stream",
     "text": [
      "Total images with feature are 3079 Background folder\n",
      "Black_skin\n"
     ]
    },
    {
     "name": "stderr",
     "output_type": "stream",
     "text": [
      "100%|██████████████████████████████████████| 3079/3079 [00:10<00:00, 305.73it/s]\n"
     ]
    },
    {
     "name": "stdout",
     "output_type": "stream",
     "text": [
      "Total images with feature are 0 Black_skin folder\n",
      "Black_smut\n"
     ]
    },
    {
     "name": "stderr",
     "output_type": "stream",
     "text": [
      "100%|██████████████████████████████████████| 3079/3079 [00:10<00:00, 298.38it/s]\n"
     ]
    },
    {
     "name": "stdout",
     "output_type": "stream",
     "text": [
      "Total images with feature are 1898 Black_smut folder\n",
      "Damaged\n"
     ]
    },
    {
     "name": "stderr",
     "output_type": "stream",
     "text": [
      "100%|██████████████████████████████████████| 3079/3079 [00:10<00:00, 293.43it/s]\n"
     ]
    },
    {
     "name": "stdout",
     "output_type": "stream",
     "text": [
      "Total images with feature are 3079 Damaged folder\n",
      "Double\n"
     ]
    },
    {
     "name": "stderr",
     "output_type": "stream",
     "text": [
      "100%|██████████████████████████████████████| 3079/3079 [00:10<00:00, 299.69it/s]\n"
     ]
    },
    {
     "name": "stdout",
     "output_type": "stream",
     "text": [
      "Total images with feature are 20 Double folder\n",
      "Fungus\n"
     ]
    },
    {
     "name": "stderr",
     "output_type": "stream",
     "text": [
      "100%|██████████████████████████████████████| 3079/3079 [00:10<00:00, 299.27it/s]\n"
     ]
    },
    {
     "name": "stdout",
     "output_type": "stream",
     "text": [
      "Total images with feature are 0 Fungus folder\n",
      "Hollow_stem\n"
     ]
    },
    {
     "name": "stderr",
     "output_type": "stream",
     "text": [
      "100%|██████████████████████████████████████| 3079/3079 [00:10<00:00, 293.88it/s]\n"
     ]
    },
    {
     "name": "stdout",
     "output_type": "stream",
     "text": [
      "Total images with feature are 0 Hollow_stem folder\n",
      "Onion\n"
     ]
    },
    {
     "name": "stderr",
     "output_type": "stream",
     "text": [
      "100%|██████████████████████████████████████| 3079/3079 [00:10<00:00, 292.24it/s]\n"
     ]
    },
    {
     "name": "stdout",
     "output_type": "stream",
     "text": [
      "Total images with feature are 3068 Onion folder\n",
      "Peeled\n"
     ]
    },
    {
     "name": "stderr",
     "output_type": "stream",
     "text": [
      "100%|██████████████████████████████████████| 3079/3079 [00:10<00:00, 297.33it/s]\n"
     ]
    },
    {
     "name": "stdout",
     "output_type": "stream",
     "text": [
      "Total images with feature are 2108 Peeled folder\n",
      "Rotten\n"
     ]
    },
    {
     "name": "stderr",
     "output_type": "stream",
     "text": [
      "100%|██████████████████████████████████████| 3079/3079 [00:10<00:00, 303.06it/s]\n"
     ]
    },
    {
     "name": "stdout",
     "output_type": "stream",
     "text": [
      "Total images with feature are 720 Rotten folder\n",
      "Sprout\n"
     ]
    },
    {
     "name": "stderr",
     "output_type": "stream",
     "text": [
      "100%|██████████████████████████████████████| 3079/3079 [00:10<00:00, 304.13it/s]\n"
     ]
    },
    {
     "name": "stdout",
     "output_type": "stream",
     "text": [
      "Total images with feature are 2 Sprout folder\n",
      "White_onion\n"
     ]
    },
    {
     "name": "stderr",
     "output_type": "stream",
     "text": [
      "100%|██████████████████████████████████████| 3079/3079 [00:10<00:00, 303.52it/s]\n"
     ]
    },
    {
     "name": "stdout",
     "output_type": "stream",
     "text": [
      "Total images with feature are 0 White_onion folder\n",
      "Winter_onion\n"
     ]
    },
    {
     "name": "stderr",
     "output_type": "stream",
     "text": [
      "100%|██████████████████████████████████████| 3079/3079 [00:10<00:00, 306.24it/s]"
     ]
    },
    {
     "name": "stdout",
     "output_type": "stream",
     "text": [
      "Total images with feature are 0 Winter_onion folder\n"
     ]
    },
    {
     "name": "stderr",
     "output_type": "stream",
     "text": [
      "\n"
     ]
    }
   ],
   "source": [
    "folders=['Background','Black_skin','Black_smut','Damaged','Double','Fungus','Hollow_stem','Onion','Peeled','Rotten','Sprout','White_onion','Winter_onion']\n",
    "\n",
    "import cv2\n",
    "import numpy as np\n",
    "import os\n",
    "from tqdm import tqdm\n",
    "\n",
    "# Set the path to the image folder\n",
    "\n",
    "def count_black_images(folder_path):\n",
    "    black_names=[]\n",
    "    counter_black=0\n",
    "    all_count=0\n",
    "    # Loop through all images in the folder\n",
    "    for filename in tqdm(os.listdir(folder_path)):\n",
    "        # Read the image\n",
    "        img = cv2.imread(os.path.join(folder_path, filename))\n",
    "\n",
    "        # Convert the image to grayscale\n",
    "        gray = cv2.cvtColor(img, cv2.COLOR_BGR2GRAY)\n",
    "        all_count+=1\n",
    "        # Check if all pixels in the image are pure black (0)\n",
    "        if np.all(gray == 0):\n",
    "            black_names.append(filename)\n",
    "            counter_black+=1\n",
    "    print(\"Total images with feature are\",(all_count-counter_black), i, 'folder')\n",
    "               \n",
    "    return f\"Total blank images are {i} {counter_black}\"\n",
    "\n",
    "folder_path = r\"/home/agrograde/Desktop/1st_july_2024/image_path\"\n",
    "\n",
    "\n",
    "for i in (folders):\n",
    "    \n",
    "    folder_path = r\"/home/agrograde/Desktop/1st_july_2024/image_path\"\n",
    "    folder_path=folder_path+'/'+i+'/'\n",
    "    print(i)\n",
    "    count_black_images(folder_path)\n"
   ]
  },
  {
   "cell_type": "code",
   "execution_count": null,
   "id": "04da2886-dde2-4c49-832f-97c92847c616",
   "metadata": {},
   "outputs": [],
   "source": []
  },
  {
   "cell_type": "code",
   "execution_count": null,
   "id": "c68e9bf9-730e-437d-ab0d-4850e69034b8",
   "metadata": {},
   "outputs": [],
   "source": []
  },
  {
   "cell_type": "code",
   "execution_count": null,
   "id": "fcc3cf9c-f56f-45f4-b811-fc284e2cb4ce",
   "metadata": {},
   "outputs": [],
   "source": []
  },
  {
   "cell_type": "code",
   "execution_count": null,
   "id": "787b604d-5bf8-4496-a5b2-360b5e6f7bf2",
   "metadata": {},
   "outputs": [],
   "source": []
  },
  {
   "cell_type": "code",
   "execution_count": null,
   "id": "e092543e-49d5-4ef0-b4a0-1139a7d51491",
   "metadata": {},
   "outputs": [],
   "source": []
  }
 ],
 "metadata": {
  "kernelspec": {
   "display_name": "Python 3 (ipykernel)",
   "language": "python",
   "name": "python3"
  },
  "language_info": {
   "codemirror_mode": {
    "name": "ipython",
    "version": 3
   },
   "file_extension": ".py",
   "mimetype": "text/x-python",
   "name": "python",
   "nbconvert_exporter": "python",
   "pygments_lexer": "ipython3",
   "version": "3.9.18"
  }
 },
 "nbformat": 4,
 "nbformat_minor": 5
}
