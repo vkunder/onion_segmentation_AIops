{
 "cells": [
  {
   "cell_type": "markdown",
   "id": "1678a265-348e-4d44-9314-a7e030272f45",
   "metadata": {},
   "source": [
    "## Preparation of val image and masks"
   ]
  },
  {
   "cell_type": "code",
   "execution_count": 1,
   "id": "7225c963-b3d2-4ad0-a477-67e85b57eb4a",
   "metadata": {},
   "outputs": [],
   "source": [
    "img_msk_dir = r\"/home/agrograde/Desktop/13th_july_2024/img_msk\"\n",
    "val_img_msk = r\"/home/agrograde/Desktop/13th_july_2024/val_img_msk\""
   ]
  },
  {
   "cell_type": "code",
   "execution_count": null,
   "id": "795262ae",
   "metadata": {},
   "outputs": [],
   "source": []
  },
  {
   "cell_type": "code",
   "execution_count": 1,
   "id": "d20b3172-7493-434b-8f5a-86bb093e2ffb",
   "metadata": {},
   "outputs": [],
   "source": [
    "import os\n",
    "import shutil"
   ]
  },
  {
   "cell_type": "code",
   "execution_count": 3,
   "id": "14cb8743-6255-4480-9d7e-b4e3e222ff6d",
   "metadata": {},
   "outputs": [],
   "source": [
    "img = []\n",
    "for i in os.listdir(img_msk_dir):\n",
    "    if i.endswith(\".jpg\"):\n",
    "        img_name = i[:-4]\n",
    "        img.append(img_name)\n",
    "\n",
    "for i in img:\n",
    "    if os.path.exists(os.path.join(img_msk_dir,i+\"_color_mask.png\")):\n",
    "        mask_src = os.path.join(img_msk_dir,i+\"_color_mask.png\")\n",
    "        img_src = os.path.join(img_msk_dir,i+\".jpg\")\n",
    "        dest_msk_path = os.path.join(val_img_msk,i+\"_color_mask.png\")\n",
    "        dest_img_path = os.path.join(val_img_msk,i+\".jpg\")\n",
    "        shutil.copy(mask_src,dest_msk_path)\n",
    "        shutil.copy(img_src,dest_img_path)\n",
    "\n"
   ]
  },
  {
   "cell_type": "markdown",
   "id": "fceebe4f-e82b-46af-9181-5a5c55566ae3",
   "metadata": {},
   "source": [
    "### Binary mask generation"
   ]
  },
  {
   "cell_type": "code",
   "execution_count": 4,
   "id": "65a72e42-1820-4c6b-9e9f-feb2092dfcb4",
   "metadata": {},
   "outputs": [],
   "source": [
    "\n",
    "import os\n",
    "\n",
    "# Directory where folders will be created\n",
    "directory = r\"/home/agrograde/Desktop/13th_july_2024/image_path\"\n",
    "\n",
    "# List of folder names\n",
    "folders=['images','Background','Black_skin','Black_smut','Damaged','Double','Fungus','Hollow_stem','Onion','Peeled','Rotten','Sprout','White_onion','Winter_onion']\n",
    "#folders=['images','Background','Black_smut','Peeled','Rotten','Sprout']\n",
    "\n",
    "# Loop through the list of folders and create each folder\n",
    "for folder in folders:\n",
    "    # Create the full path for the folder\n",
    "    folder_path = os.path.join(directory, folder)\n",
    "    # Create the folder if it doesn't exist already\n",
    "    if not os.path.exists(folder_path):\n",
    "        os.makedirs(folder_path)\n"
   ]
  },
  {
   "cell_type": "code",
   "execution_count": null,
   "id": "ec8468c6-4531-4b85-8ba3-2183a98cfb09",
   "metadata": {},
   "outputs": [
    {
     "name": "stderr",
     "output_type": "stream",
     "text": [
      "100%|███████████████████████████████████████| 6558/6558 [20:33<00:00,  5.32it/s]"
     ]
    },
    {
     "name": "stdout",
     "output_type": "stream",
     "text": [
      "['260624_0122_.jpg']\n"
     ]
    },
    {
     "name": "stderr",
     "output_type": "stream",
     "text": [
      "\n"
     ]
    }
   ],
   "source": [
    "# Final Final for naming\n",
    "\"\"\"For using this code first create 2 folder first for storing original image and second for storing binary mask\n",
    "in this folder create 12 folder named discolored,cuts, holes etc. With Proper names\n",
    "\n",
    "\"\"\"\n",
    "import shutil\n",
    "import re\n",
    "import os\n",
    "import cv2\n",
    "import numpy as np\n",
    "from tqdm import tqdm\n",
    "\n",
    "all_images_with_annotations =r\"/home/agrograde/Desktop/13th_july_2024/val_img_msk\"\n",
    "all_original_dir=r'/home/agrograde/Desktop/13th_july_2024/image_path/images'\n",
    "all_binary_mask_dir=r\"/home/agrograde/Desktop/13th_july_2024/image_path\"\n",
    "def create_mask(img,filename,all_binary_mask_dir):\n",
    "\n",
    "\n",
    "    Background_threshold = (11,255,45) \n",
    "    Black_skin_threshold = (128,128,0) \n",
    "    Black_smut_threshold = (43,59,60)\n",
    "    Damaged_threshold=(255,255,255)\n",
    "    Double_threshold = (255,255,0)\n",
    "    Fungus_threshold = (128,136,217) \n",
    "    Hollow_stem_threshold = (0,0,255)\n",
    "    Onion_threshold = (21,9,85) \n",
    "    Peeled_threshold =(255,51,252) \n",
    "    Rotten_threshold = (34,126,230) \n",
    "    Sprout_threshold =(0,255,255) \n",
    "    White_onion_threshold = (204,204,255) \n",
    "    Winter_onion_threshold =(76,0,153) \n",
    "\n",
    "\n",
    "    # Create the masks for the different features\n",
    "    Background_mask = np.zeros(img.shape[:2], np.uint8)\n",
    "    Background_mask[(img == Background_threshold).all(axis=-1)] = 255\n",
    "#     Black_skin_threshold\n",
    "    Black_skin_mask = np.zeros(img.shape[:2], np.uint8)\n",
    "    Black_skin_mask[(img == Black_skin_threshold).all(axis=-1)] = 255\n",
    "    \n",
    "    Black_smut_mask = np.zeros(img.shape[:2], np.uint8)\n",
    "    Black_smut_mask[(img == Black_smut_threshold).all(axis=-1)] = 255\n",
    "    \n",
    "    Damaged_mask = np.zeros(img.shape[:2], np.uint8)\n",
    "    Damaged_mask[(img == Damaged_threshold).all(axis=-1)] = 255\n",
    "    \n",
    "    Double_mask = np.zeros(img.shape[:2], np.uint8)\n",
    "    Double_mask[(img == Double_threshold).all(axis=-1)] = 255\n",
    "    \n",
    "    Fungus_mask = np.zeros(img.shape[:2], np.uint8)\n",
    "    Fungus_mask[(img == Fungus_threshold).all(axis=-1)] = 255\n",
    "    \n",
    "    Hollow_stem_mask = np.zeros(img.shape[:2], np.uint8)\n",
    "    Hollow_stem_mask[(img == Hollow_stem_threshold).all(axis=-1)] = 255\n",
    "    \n",
    "    Onion_mask = np.zeros(img.shape[:2], np.uint8)\n",
    "    Onion_mask[(img == Onion_threshold).all(axis=-1)] = 255\n",
    "    \n",
    "    Peeled_mask = np.zeros(img.shape[:2], np.uint8)\n",
    "    Peeled_mask[(img == Peeled_threshold).all(axis=-1)] = 255\n",
    "    \n",
    "    Rotten_mask = np.zeros(img.shape[:2], np.uint8)\n",
    "    Rotten_mask[(img == Rotten_threshold).all(axis=-1)] = 255\n",
    "    \n",
    "    Sprout_mask = np.zeros(img.shape[:2], np.uint8)\n",
    "    Sprout_mask[(img == Sprout_threshold).all(axis=-1)] = 255\n",
    "    \n",
    "    White_onion_mask = np.zeros(img.shape[:2], np.uint8)\n",
    "    White_onion_mask[(img == White_onion_threshold).all(axis=-1)] = 255\n",
    "\n",
    "    Winter_onion_mask = np.zeros(img.shape[:2], np.uint8)\n",
    "    Winter_onion_mask[(img == Winter_onion_threshold).all(axis=-1)] = 255\n",
    "\n",
    "    # Apply the masks\n",
    "    Background_result = cv2.bitwise_and(img, img, mask=Background_mask)\n",
    "    #converting \n",
    "    Background_result = cv2.cvtColor(Background_result,cv2.COLOR_BGR2GRAY)\n",
    "    Background_result[Background_result[:,:]>0]=255\n",
    "    Background_result = cv2.bitwise_not(Background_result)\n",
    "    \n",
    "    Black_skin_result = cv2.bitwise_and(img, img, mask=Black_skin_mask)\n",
    "    Black_skin_result = cv2.cvtColor(Black_skin_result,cv2.COLOR_BGR2GRAY)\n",
    "    Black_skin_result[Black_skin_result[:,:]>0]=255\n",
    "    \n",
    "    Black_smut_result = cv2.bitwise_and(img, img, mask=Black_smut_mask)\n",
    "    Black_smut_result = cv2.cvtColor(Black_smut_result,cv2.COLOR_BGR2GRAY)\n",
    "    Black_smut_result[Black_smut_result[:,:]>0]=255\n",
    "    \n",
    "    Damaged_result = cv2.bitwise_and(img, img, mask=Damaged_mask)\n",
    "    Damaged_result = cv2.cvtColor(Damaged_result,cv2.COLOR_BGR2GRAY)\n",
    "    Damaged_result[Damaged_result[:,:]>0]=255\n",
    "    \n",
    "    Double_result = cv2.bitwise_and(img, img, mask=Double_mask)\n",
    "    Double_result = cv2.cvtColor(Double_result,cv2.COLOR_BGR2GRAY)\n",
    "    Double_result[Double_result[:,:]>0]=255\n",
    "    \n",
    "    Fungus_result = cv2.bitwise_and(img, img, mask=Fungus_mask)\n",
    "    Fungus_result = cv2.cvtColor(Fungus_result,cv2.COLOR_BGR2GRAY)\n",
    "    Fungus_result[Fungus_result[:,:]>0]=255\n",
    "    \n",
    "    Hollow_stem_result = cv2.bitwise_and(img, img, mask=Hollow_stem_mask)\n",
    "    Hollow_stem_result = cv2.cvtColor(Hollow_stem_result,cv2.COLOR_BGR2GRAY)\n",
    "    Hollow_stem_result[Hollow_stem_result[:,:]>0]=255\n",
    "    \n",
    "    Onion_result = cv2.bitwise_and(img, img, mask=Onion_mask)\n",
    "    Onion_result = cv2.cvtColor(Onion_result,cv2.COLOR_BGR2GRAY)\n",
    "    Onion_result[Onion_result[:,:]>0]=255\n",
    "    \n",
    "    Peeled_result = cv2.bitwise_and(img, img, mask=Peeled_mask)\n",
    "    Peeled_result = cv2.cvtColor(Peeled_result,cv2.COLOR_BGR2GRAY)\n",
    "    Peeled_result[Peeled_result[:,:]>0]=255\n",
    "\n",
    "    Rotten_result = cv2.bitwise_and(img, img, mask=Rotten_mask)\n",
    "    Rotten_result = cv2.cvtColor(Rotten_result,cv2.COLOR_BGR2GRAY)\n",
    "    Rotten_result[Rotten_result[:,:]>0]=255\n",
    "    \n",
    "    Sprout_result = cv2.bitwise_and(img, img, mask=Sprout_mask)\n",
    "    Sprout_result = cv2.cvtColor(Sprout_result,cv2.COLOR_BGR2GRAY)\n",
    "    Sprout_result[Sprout_result[:,:]>0]=255\n",
    "    \n",
    "    White_onion_result = cv2.bitwise_and(img, img, mask=White_onion_mask)\n",
    "    White_onion_result = cv2.cvtColor(White_onion_result,cv2.COLOR_BGR2GRAY)\n",
    "    White_onion_result[White_onion_result[:,:]>0]=255\n",
    "    \n",
    "    Winter_onion_result = cv2.bitwise_and(img, img, mask=Winter_onion_mask)\n",
    "    Winter_onion_result = cv2.cvtColor(Winter_onion_result,cv2.COLOR_BGR2GRAY)\n",
    "    Winter_onion_result[Winter_onion_result[:,:]>0]=255\n",
    "  \n",
    "      #for proper nameing\n",
    "    filename1=filename[:-15]+'.jpg'\n",
    "    filename2=filename[:-15]+'.jpg'\n",
    "    filename3=filename[:-15]+'.jpg'\n",
    "    filename4=filename[:-15]+'.jpg'\n",
    "    filename5=filename[:-15]+'.jpg'\n",
    "    filename6=filename[:-15]+'.jpg'\n",
    "    filename7=filename[:-15]+'.jpg'\n",
    "    filename8=filename[:-15]+'.jpg'\n",
    "    filename9=filename[:-15]+'.jpg'\n",
    "    filename10=filename[:-15]+'.jpg'\n",
    "    filename11=filename[:-15]+'.jpg'\n",
    "    filename12=filename[:-15]+'.jpg'\n",
    "    filename13=filename[:-15]+'.jpg'\n",
    "#folders=['images','Background','Black_skin','Black_smut','Damaged','Double','Fungus','Hollow_stem',\n",
    "# 'Onion','Peeled','Rotten','Sprout','White_onion','Winter_onion']\n",
    "\n",
    "    # Save the image\n",
    "    cv2.imwrite(os.path.join(all_binary_mask_dir ,'Background',filename1), Background_result)\n",
    "    cv2.imwrite(os.path.join(all_binary_mask_dir,'Black_skin',filename2), Black_skin_result)\n",
    "    cv2.imwrite(os.path.join(all_binary_mask_dir,'Black_smut',filename3), Black_smut_result)\n",
    "    cv2.imwrite(os.path.join(all_binary_mask_dir,'Damaged',filename4), Damaged_result)\n",
    "    cv2.imwrite(os.path.join(all_binary_mask_dir,'Double',filename5), Double_result)\n",
    "    cv2.imwrite(os.path.join(all_binary_mask_dir,'Fungus',filename6), Fungus_result)\n",
    "    cv2.imwrite(os.path.join(all_binary_mask_dir,'Hollow_stem',filename7), Hollow_stem_result)\n",
    "    cv2.imwrite(os.path.join(all_binary_mask_dir,'Onion',filename8), Onion_result)\n",
    "    cv2.imwrite(os.path.join(all_binary_mask_dir,'Peeled',filename9), Peeled_result)\n",
    "    cv2.imwrite(os.path.join(all_binary_mask_dir,'Sprout',filename10),Sprout_result )\n",
    "    cv2.imwrite(os.path.join(all_binary_mask_dir,'Rotten',filename11),Rotten_result )\n",
    "    cv2.imwrite(os.path.join(all_binary_mask_dir,'White_onion',filename12), White_onion_result)\n",
    "    cv2.imwrite(os.path.join(all_binary_mask_dir,'Winter_onion',filename12), Winter_onion_result)  \n",
    "# Destroy all windows\n",
    "    #cv2.destroyAllWindows()\n",
    "\n",
    "# Create the directory to save the noisy images, if it doesn't exist\n",
    "if not os.path.exists(all_binary_mask_dir):\n",
    "    os.makedirs(all_binary_mask_dir)\n",
    "    \n",
    "error_file=[]    \n",
    "# Loop through all images in the original images directory\n",
    "for filename in tqdm(os.listdir(all_images_with_annotations)):\n",
    "    pattern = r'^[\\d_]+$'   \n",
    "    #first if for selecting only color mask images and applying function\n",
    "    if (filename[-15:]== \"_color_mask.png\"):\n",
    "        img = cv2.imread(os.path.join(all_images_with_annotations, filename))\n",
    "    \n",
    "        create_mask(img,filename,all_binary_mask_dir)\n",
    "    \n",
    "    #Second  if for storing original images in given dir\n",
    "    if (filename[-4:]=='.jpg'):\n",
    "        \n",
    "        # create the full path to the source image file\n",
    "        src_image_path = os.path.join(all_images_with_annotations, filename)\n",
    "        # create the full path to the destination image file\n",
    "        dest_image_path = os.path.join(all_original_dir, filename)\n",
    "        shutil.copy(src_image_path, dest_image_path)\n",
    "        \n",
    "else:\n",
    "    error_file.append(filename)\n",
    "        \n",
    "print(error_file)"
   ]
  },
  {
   "cell_type": "code",
   "execution_count": null,
   "id": "b842d55a-3f19-4319-87ae-263667643f2f",
   "metadata": {},
   "outputs": [],
   "source": []
  },
  {
   "cell_type": "markdown",
   "id": "50dd5256-5848-4ea7-8d4f-45696c2b6de3",
   "metadata": {},
   "source": [
    "## Training Stats"
   ]
  },
  {
   "cell_type": "code",
   "execution_count": 7,
   "id": "a2c47110-50eb-4df9-9eb3-c3268ac3052a",
   "metadata": {},
   "outputs": [
    {
     "name": "stdout",
     "output_type": "stream",
     "text": [
      "Background\n"
     ]
    },
    {
     "name": "stderr",
     "output_type": "stream",
     "text": [
      "100%|██████████████████████████████████████| 3279/3279 [00:11<00:00, 296.11it/s]\n"
     ]
    },
    {
     "name": "stdout",
     "output_type": "stream",
     "text": [
      "Total images with feature are 3279 Background folder\n",
      "Black_skin\n"
     ]
    },
    {
     "name": "stderr",
     "output_type": "stream",
     "text": [
      "100%|██████████████████████████████████████| 3279/3279 [00:10<00:00, 311.60it/s]\n"
     ]
    },
    {
     "name": "stdout",
     "output_type": "stream",
     "text": [
      "Total images with feature are 0 Black_skin folder\n",
      "Black_smut\n"
     ]
    },
    {
     "name": "stderr",
     "output_type": "stream",
     "text": [
      "100%|██████████████████████████████████████| 3279/3279 [00:10<00:00, 303.70it/s]\n"
     ]
    },
    {
     "name": "stdout",
     "output_type": "stream",
     "text": [
      "Total images with feature are 1968 Black_smut folder\n",
      "Damaged\n"
     ]
    },
    {
     "name": "stderr",
     "output_type": "stream",
     "text": [
      "100%|██████████████████████████████████████| 3279/3279 [00:10<00:00, 300.05it/s]\n"
     ]
    },
    {
     "name": "stdout",
     "output_type": "stream",
     "text": [
      "Total images with feature are 3279 Damaged folder\n",
      "Double\n"
     ]
    },
    {
     "name": "stderr",
     "output_type": "stream",
     "text": [
      "100%|██████████████████████████████████████| 3279/3279 [00:10<00:00, 304.90it/s]\n"
     ]
    },
    {
     "name": "stdout",
     "output_type": "stream",
     "text": [
      "Total images with feature are 20 Double folder\n",
      "Fungus\n"
     ]
    },
    {
     "name": "stderr",
     "output_type": "stream",
     "text": [
      "100%|██████████████████████████████████████| 3279/3279 [00:11<00:00, 297.55it/s]\n"
     ]
    },
    {
     "name": "stdout",
     "output_type": "stream",
     "text": [
      "Total images with feature are 0 Fungus folder\n",
      "Hollow_stem\n"
     ]
    },
    {
     "name": "stderr",
     "output_type": "stream",
     "text": [
      "100%|██████████████████████████████████████| 3279/3279 [00:10<00:00, 312.06it/s]\n"
     ]
    },
    {
     "name": "stdout",
     "output_type": "stream",
     "text": [
      "Total images with feature are 0 Hollow_stem folder\n",
      "Onion\n"
     ]
    },
    {
     "name": "stderr",
     "output_type": "stream",
     "text": [
      "100%|██████████████████████████████████████| 3279/3279 [00:11<00:00, 297.55it/s]\n"
     ]
    },
    {
     "name": "stdout",
     "output_type": "stream",
     "text": [
      "Total images with feature are 3268 Onion folder\n",
      "Peeled\n"
     ]
    },
    {
     "name": "stderr",
     "output_type": "stream",
     "text": [
      "100%|██████████████████████████████████████| 3279/3279 [00:10<00:00, 303.43it/s]\n"
     ]
    },
    {
     "name": "stdout",
     "output_type": "stream",
     "text": [
      "Total images with feature are 2121 Peeled folder\n",
      "Rotten\n"
     ]
    },
    {
     "name": "stderr",
     "output_type": "stream",
     "text": [
      "100%|██████████████████████████████████████| 3279/3279 [00:10<00:00, 308.34it/s]\n"
     ]
    },
    {
     "name": "stdout",
     "output_type": "stream",
     "text": [
      "Total images with feature are 919 Rotten folder\n",
      "Sprout\n"
     ]
    },
    {
     "name": "stderr",
     "output_type": "stream",
     "text": [
      "100%|██████████████████████████████████████| 3279/3279 [00:10<00:00, 310.72it/s]\n"
     ]
    },
    {
     "name": "stdout",
     "output_type": "stream",
     "text": [
      "Total images with feature are 5 Sprout folder\n",
      "White_onion\n"
     ]
    },
    {
     "name": "stderr",
     "output_type": "stream",
     "text": [
      "100%|██████████████████████████████████████| 3279/3279 [00:10<00:00, 310.63it/s]\n"
     ]
    },
    {
     "name": "stdout",
     "output_type": "stream",
     "text": [
      "Total images with feature are 0 White_onion folder\n",
      "Winter_onion\n"
     ]
    },
    {
     "name": "stderr",
     "output_type": "stream",
     "text": [
      "100%|██████████████████████████████████████| 3279/3279 [00:10<00:00, 311.36it/s]"
     ]
    },
    {
     "name": "stdout",
     "output_type": "stream",
     "text": [
      "Total images with feature are 0 Winter_onion folder\n"
     ]
    },
    {
     "name": "stderr",
     "output_type": "stream",
     "text": [
      "\n"
     ]
    }
   ],
   "source": [
    "folders=['Background','Black_skin','Black_smut','Damaged','Double','Fungus','Hollow_stem','Onion','Peeled','Rotten','Sprout','White_onion','Winter_onion']\n",
    "\n",
    "import cv2\n",
    "import numpy as np\n",
    "import os\n",
    "from tqdm import tqdm\n",
    "\n",
    "# Set the path to the image folder\n",
    "\n",
    "def count_black_images(folder_path):\n",
    "    black_names=[]\n",
    "    counter_black=0\n",
    "    all_count=0\n",
    "    # Loop through all images in the folder\n",
    "    for filename in tqdm(os.listdir(folder_path)):\n",
    "        # Read the image\n",
    "        img = cv2.imread(os.path.join(folder_path, filename))\n",
    "\n",
    "        # Convert the image to grayscale\n",
    "        gray = cv2.cvtColor(img, cv2.COLOR_BGR2GRAY)\n",
    "        all_count+=1\n",
    "        # Check if all pixels in the image are pure black (0)\n",
    "        if np.all(gray == 0):\n",
    "            black_names.append(filename)\n",
    "            counter_black+=1\n",
    "    print(\"Total images with feature are\",(all_count-counter_black), i, 'folder')\n",
    "               \n",
    "    return f\"Total blank images are {i} {counter_black}\"\n",
    "\n",
    "folder_path = r\"/home/agrograde/Desktop/13th_july_2024/image_path\"\n",
    "\n",
    "\n",
    "for i in (folders):\n",
    "    \n",
    "    folder_path = r\"/home/agrograde/Desktop/13th_july_2024/image_path\"\n",
    "    folder_path=folder_path+'/'+i+'/'\n",
    "    print(i)\n",
    "    count_black_images(folder_path)\n"
   ]
  },
  {
   "cell_type": "code",
   "execution_count": null,
   "id": "04da2886-dde2-4c49-832f-97c92847c616",
   "metadata": {},
   "outputs": [],
   "source": []
  },
  {
   "cell_type": "markdown",
   "id": "ae349b43-0ac4-4453-a8dc-4c6dd26eaa9d",
   "metadata": {},
   "source": [
    "## separation of perticular class from the existing data"
   ]
  },
  {
   "cell_type": "markdown",
   "id": "d4f45097-ee4f-4480-bdac-cf92230f7862",
   "metadata": {},
   "source": [
    "## Rotten"
   ]
  },
  {
   "cell_type": "code",
   "execution_count": 9,
   "id": "fcc3cf9c-f56f-45f4-b811-fc284e2cb4ce",
   "metadata": {},
   "outputs": [
    {
     "name": "stderr",
     "output_type": "stream",
     "text": [
      "100%|██████████████████████████████████████| 3279/3279 [00:10<00:00, 298.21it/s]"
     ]
    },
    {
     "name": "stdout",
     "output_type": "stream",
     "text": [
      "919\n",
      "['200624_019_.jpg', '040724_01133_.jpg', '280624_01195_.jpg', '270524_01461_.jpg', '040724_0163_.jpg', '130624_01816_.jpg', '050724_01335_.jpg', '210624_0169_.jpg', '290624_01267_.jpg', '250624_01683_.jpg', '290624_01306_.jpg', '270524_01435_.jpg', '250624_01686_.jpg', '110624_01635_.jpg', '270524_01450_.jpg', '040724_01123_.jpg', '040724_0149_.jpg', '260624_013_.jpg', '290524_01595_.jpg', '210624_01718_.jpg', '280624_01306_.jpg', '130624_01819_.jpg', '120624_01785_.jpg', '050724_01238_.jpg', '290524_01573_.jpg', '080624_01355_.jpg', '050724_01351_.jpg', '210624_01152_.jpg', '210624_01820_.jpg', '200624_0196_.jpg', '300524_01761_.jpg', '210624_01665_.jpg', '040724_0169_.jpg', '280624_01422_.jpg', '120624_01749_.jpg', '220624_01202_.jpg', '040724_0151_.jpg', '200624_01134_.jpg', '280624_01446_.jpg', '050724_01253_.jpg', '290524_01618_.jpg', '260624_0164_.jpg', '200624_01365_.jpg', '260624_01473_.jpg', '240624_01418_.jpg', '050724_01277_.jpg', '110624_01605_.jpg', '300524_01757_.jpg', '280624_01543_.jpg', '280624_01284_.jpg', '200624_01325_.jpg', '260624_0171_.jpg', '280624_01259_.jpg', '040724_0114_.jpg', '040724_01145_.jpg', '250624_01569_.jpg', '220624_0156_.jpg', '290624_01317_.jpg', '280624_01361_.jpg', '040724_01103_.jpg', '220624_01185_.jpg', '290524_01644_.jpg', '280624_0120_.jpg', '250624_01812_.jpg', '040724_0142_.jpg', '040724_0183_.jpg', '300524_01681_.jpg', '050724_01285_.jpg', '130624_01840_.jpg', '210624_01838_.jpg', '210624_01520_.jpg', '050724_01278_.jpg', '260624_0147_.jpg', '260624_01462_.jpg', '050724_01307_.jpg', '280624_01105_.jpg', '050724_01272_.jpg', '040724_01136_.jpg', '050724_01232_.jpg', '300524_01682_.jpg', '050724_01236_.jpg', '300524_01725_.jpg', '110624_01651_.jpg', '050724_01319_.jpg', '290524_01657_.jpg', '240624_01381_.jpg', '300524_01779_.jpg', '260624_01177_.jpg', '280624_01260_.jpg', '290524_01648_.jpg', '080624_01360_.jpg', '120624_01708_.jpg', '040724_0173_.jpg', '050724_01391_.jpg', '280624_01305_.jpg', '280624_01363_.jpg', '250624_01682_.jpg', '050724_01245_.jpg', '210624_01617_.jpg', '210624_01889_.jpg', '280624_01509_.jpg', '210624_01563_.jpg', '210624_01850_.jpg', '050724_01256_.jpg', '050724_01189_.jpg', '310524_01831_.jpg', '210624_01892_.jpg', '050724_01229_.jpg', '110624_01580_.jpg', '290624_01195_.jpg', '110624_01578_.jpg', '120624_01680_.jpg', '280624_01293_.jpg', '290524_01673_.jpg', '240624_01411_.jpg', '210624_01128_.jpg', '050724_01347_.jpg', '240624_01270_.jpg', '260624_0167_.jpg', '110624_01613_.jpg', '240624_01328_.jpg', '250624_0143_.jpg', '050724_01350_.jpg', '280624_01486_.jpg', '220624_01223_.jpg', '220624_01280_.jpg', '290524_01559_.jpg', '250624_0181_.jpg', '210624_01887_.jpg', '130624_01815_.jpg', '100624_01487_.jpg', '050724_01286_.jpg', '050724_01289_.jpg', '110624_01623_.jpg', '300524_01689_.jpg', '050724_01316_.jpg', '210624_01839_.jpg', '050724_01252_.jpg', '300524_01698_.jpg', '240624_01352_.jpg', '040724_0179_.jpg', '050724_01301_.jpg', '250624_01555_.jpg', '110624_01544_.jpg', '220624_01188_.jpg', '110624_01558_.jpg', '240624_01383_.jpg', '310524_01813_.jpg', '110624_01645_.jpg', '290524_01664_.jpg', '120624_01679_.jpg', '290624_01129_.jpg', '040724_0186_.jpg', '230524_01114_.jpg', '290624_01284_.jpg', '250624_01870_.jpg', '290624_01442_.jpg', '050724_01255_.jpg', '120624_01656_.jpg', '050724_01376_.jpg', '210624_01829_.jpg', '050724_01218_.jpg', '260624_01188_.jpg', '250624_01872_.jpg', '210624_01728_.jpg', '270524_01488_.jpg', '220624_01230_.jpg', '290624_01279_.jpg', '080624_01323_.jpg', '270524_01497_.jpg', '050724_01200_.jpg', '220624_0114_.jpg', '280624_01445_.jpg', '240624_01315_.jpg', '120624_01654_.jpg', '050724_01263_.jpg', '040724_01181_.jpg', '290624_01111_.jpg', '120624_01720_.jpg', '220624_01263_.jpg', '260624_0185_.jpg', '280624_01593_.jpg', '270524_01455_.jpg', '250624_01633_.jpg', '210624_01780_.jpg', '200624_01157_.jpg', '210624_01896_.jpg', '210624_01588_.jpg', '280624_01218_.jpg', '260624_01499_.jpg', '200624_01314_.jpg', '240624_01325_.jpg', '250624_0183_.jpg', '120624_01658_.jpg', '130624_01811_.jpg', '130624_01805_.jpg', '250624_01892_.jpg', '290624_01249_.jpg', '050724_01406_.jpg', '050724_01251_.jpg', '130624_01795_.jpg', '050724_01192_.jpg', '210624_01827_.jpg', '220624_01156_.jpg', '290624_01187_.jpg', '240624_01338_.jpg', '110624_01523_.jpg', '290524_01558_.jpg', '250624_01725_.jpg', '260624_01132_.jpg', '050724_01202_.jpg', '120624_01704_.jpg', '300524_01744_.jpg', '220624_0178_.jpg', '290524_01591_.jpg', '150624_011077_.jpg', '050724_01344_.jpg', '040724_0135_.jpg', '120624_01766_.jpg', '220624_01101_.jpg', '210624_01825_.jpg', '040724_0146_.jpg', '210624_01828_.jpg', '270524_01480_.jpg', '260624_0121_.jpg', '300524_01696_.jpg', '110624_01593_.jpg', '260624_01153_.jpg', '110624_01601_.jpg', '280624_01108_.jpg', '040724_01175_.jpg', '220624_01196_.jpg', '050724_01337_.jpg', '300524_01707_.jpg', '050724_01371_.jpg', '290624_01297_.jpg', '220624_01100_.jpg', '240624_01370_.jpg', '250624_01780_.jpg', '040724_01104_.jpg', '120624_01760_.jpg', '280624_0163_.jpg', '280624_01219_.jpg', '280624_01442_.jpg', '280624_01558_.jpg', '290624_01265_.jpg', '040724_01115_.jpg', '290624_01259_.jpg', '290524_01593_.jpg', '300524_01769_.jpg', '210624_0167_.jpg', '300524_01695_.jpg', '200624_01425_.jpg', '280624_0134_.jpg', '240624_01356_.jpg', '110624_01594_.jpg', '220624_0110_.jpg', '200624_01376_.jpg', '210624_01480_.jpg', '220624_012_.jpg', '280624_01233_.jpg', '290624_0199_.jpg', '280624_01295_.jpg', '240624_01323_.jpg', '100624_01370_.jpg', '220624_01370_.jpg', '210624_01817_.jpg', '270524_01501_.jpg', '150624_011087_.jpg', '200624_01328_.jpg', '050724_01362_.jpg', '110624_01516_.jpg', '260624_01120_.jpg', '240624_01423_.jpg', '250624_01774_.jpg', '050724_01395_.jpg', '270524_01446_.jpg', '050724_01297_.jpg', '250624_01534_.jpg', '290624_01261_.jpg', '220624_01124_.jpg', '110624_01646_.jpg', '110624_01630_.jpg', '040724_0115_.jpg', '100624_01493_.jpg', '250624_01670_.jpg', '120624_01742_.jpg', '280624_01457_.jpg', '260624_0165_.jpg', '210624_01868_.jpg', '220624_01158_.jpg', '100624_01436_.jpg', '220624_0197_.jpg', '250624_0165_.jpg', '260624_0168_.jpg', '050724_01325_.jpg', '280624_01341_.jpg', '120624_01665_.jpg', '280624_01276_.jpg', '040724_0145_.jpg', '060624_0160_.jpg', '230524_0185_.jpg', '220624_0112_.jpg', '220624_01160_.jpg', '220624_01216_.jpg', '050724_01352_.jpg', '280624_01579_.jpg', '280624_01275_.jpg', '250624_01790_.jpg', '100624_01489_.jpg', '290624_01593_.jpg', '040624_011171_.jpg', '050724_01265_.jpg', '250624_0199_.jpg', '300524_01720_.jpg', '040724_0143_.jpg', '110624_01612_.jpg', '050724_01334_.jpg', '300524_01692_.jpg', '050724_01228_.jpg', '220624_01380_.jpg', '270524_01440_.jpg', '110624_01653_.jpg', '250624_01730_.jpg', '290624_01178_.jpg', '210624_01114_.jpg', '250524_01310_.jpg', '220624_01186_.jpg', '280624_01243_.jpg', '120624_01687_.jpg', '230524_01116_.jpg', '040724_01128_.jpg', '100624_01473_.jpg', '290624_01177_.jpg', '120624_01677_.jpg', '220624_01244_.jpg', '050724_01213_.jpg', '110624_01608_.jpg', '250624_01529_.jpg', '260624_0187_.jpg', '250624_01664_.jpg', '050724_01330_.jpg', '100624_01475_.jpg', '050724_01354_.jpg', '290524_01565_.jpg', '100624_01450_.jpg', '100624_01491_.jpg', '250624_01628_.jpg', '210624_01690_.jpg', '210624_0119_.jpg', '240524_01161_.jpg', '040724_01152_.jpg', '250624_01902_.jpg', '250624_01753_.jpg', '280624_01152_.jpg', '220624_01240_.jpg', '050724_01291_.jpg', '240624_01333_.jpg', '260624_01496_.jpg', '040724_01180_.jpg', '270524_01490_.jpg', '250624_0112_.jpg', '250624_01743_.jpg', '200624_01409_.jpg', '260624_01203_.jpg', '050724_01312_.jpg', '050724_01415_.jpg', '120624_01767_.jpg', '240624_01311_.jpg', '210624_01600_.jpg', '220624_01396_.jpg', '100624_01461_.jpg', '290624_01302_.jpg', '290624_01514_.jpg', '120624_01737_.jpg', '040724_0141_.jpg', '040724_0182_.jpg', '200624_015_.jpg', '280624_01365_.jpg', '250624_01643_.jpg', '270524_01549_.jpg', '240624_01432_.jpg', '220624_0172_.jpg', '050724_01208_.jpg', '210624_0114_.jpg', '050724_01399_.jpg', '290524_01641_.jpg', '250624_0116_.jpg', '250624_01888_.jpg', '240624_01396_.jpg', '040724_01179_.jpg', '200624_0177_.jpg', '050624_011307_.jpg', '050724_01198_.jpg', '260624_0178_.jpg', '240624_01346_.jpg', '270524_01484_.jpg', '040724_01109_.jpg', '260624_0183_.jpg', '280624_01131_.jpg', '110624_01607_.jpg', '200624_01184_.jpg', '050724_01368_.jpg', '120624_01662_.jpg', '210624_01822_.jpg', '050724_01273_.jpg', '270524_01534_.jpg', '290624_01509_.jpg', '210624_01504_.jpg', '270524_01517_.jpg', '290624_01544_.jpg', '040724_01138_.jpg', '260624_0135_.jpg', '270524_01433_.jpg', '270524_01539_.jpg', '250624_01650_.jpg', '210624_01898_.jpg', '200624_01418_.jpg', '250624_01789_.jpg', '110624_01556_.jpg', '050724_01324_.jpg', '040724_01174_.jpg', '100624_01497_.jpg', '040724_01100_.jpg', '210624_01794_.jpg', '300524_01717_.jpg', '290624_01508_.jpg', '210624_01814_.jpg', '050724_01393_.jpg', '200624_0158_.jpg', '300524_01684_.jpg', '220624_01175_.jpg', '220624_01307_.jpg', '280624_01251_.jpg', '270524_01434_.jpg', '290624_01207_.jpg', '280624_01550_.jpg', '280624_01359_.jpg', '050724_01342_.jpg', '290624_01579_.jpg', '250624_01788_.jpg', '110624_01555_.jpg', '290624_0188_.jpg', '050724_01190_.jpg', '120624_01684_.jpg', '250624_01893_.jpg', '290624_01446_.jpg', '260624_01485_.jpg', '210624_01684_.jpg', '220624_01151_.jpg', '050724_01225_.jpg', '280624_0170_.jpg', '110624_01585_.jpg', '270524_01430_.jpg', '120624_01718_.jpg', '250624_01779_.jpg', '110624_01525_.jpg', '210624_01645_.jpg', '290524_01630_.jpg', '250624_01829_.jpg', '050724_01210_.jpg', '300524_01797_.jpg', '220624_01141_.jpg', '290524_01632_.jpg', '130624_01797_.jpg', '250624_01797_.jpg', '280624_01319_.jpg', '040724_0176_.jpg', '220624_01243_.jpg', '110624_01639_.jpg', '080624_01275_.jpg', '050724_01201_.jpg', '280624_0131_.jpg', '100624_01467_.jpg', '220624_01180_.jpg', '040724_01183_.jpg', '240524_01264_.jpg', '250624_01770_.jpg', '260624_01447_.jpg', '210624_01918_.jpg', '280624_01158_.jpg', '280624_01216_.jpg', '120624_01709_.jpg', '220624_01177_.jpg', '040724_01163_.jpg', '210624_01874_.jpg', '040724_0155_.jpg', '050724_01223_.jpg', '290524_01667_.jpg', '220624_0171_.jpg', '050724_01403_.jpg', '220624_0146_.jpg', '250624_01607_.jpg', '260624_01148_.jpg', '290524_01631_.jpg', '120624_01685_.jpg', '040724_0139_.jpg', '220624_01336_.jpg', '310524_01804_.jpg', '210624_018_.jpg', '110624_01508_.jpg', '290524_01598_.jpg', '100624_01478_.jpg', '290624_01194_.jpg', '220624_0130_.jpg', '100624_01462_.jpg', '210624_01698_.jpg', '280624_01451_.jpg', '120624_01699_.jpg', '200624_01416_.jpg', '050724_01329_.jpg', '040724_01140_.jpg', '210624_01531_.jpg', '280624_01515_.jpg', '240624_01409_.jpg', '210624_0172_.jpg', '130624_01799_.jpg', '050724_01326_.jpg', '210624_01788_.jpg', '220624_0186_.jpg', '270524_01463_.jpg', '280624_01274_.jpg', '220624_01246_.jpg', '240624_01324_.jpg', '290624_01311_.jpg', '220624_01356_.jpg', '050724_01209_.jpg', '220624_01381_.jpg', '280624_0174_.jpg', '220624_01264_.jpg', '100624_01469_.jpg', '270524_01489_.jpg', '290624_01232_.jpg', '290524_01576_.jpg', '110624_01641_.jpg', '290624_01243_.jpg', '050724_01199_.jpg', '050724_01246_.jpg', '040724_0121_.jpg', '110624_01648_.jpg', '120624_01770_.jpg', '050724_01217_.jpg', '250624_01113_.jpg', '050724_01397_.jpg', '050724_01396_.jpg', '260624_01454_.jpg', '280624_0129_.jpg', '200624_01176_.jpg', '250624_01791_.jpg', '260624_0157_.jpg', '280624_01254_.jpg', '210624_01674_.jpg', '260624_0152_.jpg', '050724_01260_.jpg', '100624_01477_.jpg', '210624_01115_.jpg', '100624_01459_.jpg', '050724_01294_.jpg', '280624_0145_.jpg', '080624_01351_.jpg', '290624_01453_.jpg', '120624_01686_.jpg', '290524_01603_.jpg', '050724_01187_.jpg', '270524_01479_.jpg', '240624_01421_.jpg', '260624_01187_.jpg', '290624_01295_.jpg', '050724_01379_.jpg', '250624_01621_.jpg', '040724_0168_.jpg', '250624_01736_.jpg', '120624_01682_.jpg', '050724_01303_.jpg', '050724_01257_.jpg', '250624_01755_.jpg', '050724_01234_.jpg', '050724_01398_.jpg', '250624_01793_.jpg', '040724_01121_.jpg', '230524_01102_.jpg', '240524_01190_.jpg', '050724_01293_.jpg', '300524_01702_.jpg', '290624_01123_.jpg', '280624_01232_.jpg', '040724_0185_.jpg', '040724_01105_.jpg', '280624_0155_.jpg', '220624_01351_.jpg', '110624_01557_.jpg', '210624_01463_.jpg', '120624_01726_.jpg', '220624_01205_.jpg', '290524_01604_.jpg', '040724_01176_.jpg', '040724_0133_.jpg', '210624_01770_.jpg', '270524_01516_.jpg', '260624_01196_.jpg', '220624_01190_.jpg', '240624_01351_.jpg', '210624_01611_.jpg', '050724_01230_.jpg', '220624_0159_.jpg', '290624_01102_.jpg', '280624_01136_.jpg', '050724_01304_.jpg', '220624_0149_.jpg', '260624_01183_.jpg', '290524_01608_.jpg', '280624_01266_.jpg', '220624_0157_.jpg', '260624_0133_.jpg', '040724_0165_.jpg', '040724_01107_.jpg', '210624_01844_.jpg', '300524_01765_.jpg', '040724_0199_.jpg', '260624_0145_.jpg', '280624_01249_.jpg', '240624_01317_.jpg', '290524_01602_.jpg', '290624_01389_.jpg', '220624_01248_.jpg', '290524_01597_.jpg', '130624_01807_.jpg', '240624_01400_.jpg', '290624_01268_.jpg', '050724_01292_.jpg', '230524_01101_.jpg', '040724_01132_.jpg', '290624_01595_.jpg', '210624_01133_.jpg', '290624_01488_.jpg', '210624_01647_.jpg', '250624_01531_.jpg', '050724_01235_.jpg', '040724_019_.jpg', '280624_01313_.jpg', '040724_0167_.jpg', '290624_01487_.jpg', '050724_01275_.jpg', '220624_01234_.jpg', '270524_01538_.jpg', '050724_01231_.jpg', '040724_01150_.jpg', '220624_0187_.jpg', '280624_01368_.jpg', '120624_01667_.jpg', '290524_01601_.jpg', '210624_01767_.jpg', '290524_01588_.jpg', '290624_01256_.jpg', '050724_01244_.jpg', '040724_01137_.jpg', '040724_01118_.jpg', '220624_0162_.jpg', '250624_01504_.jpg', '260624_0149_.jpg', '110624_01627_.jpg', '250624_0169_.jpg', '040724_0175_.jpg', '250624_01884_.jpg', '290624_01310_.jpg', '120624_01765_.jpg', '280624_01223_.jpg', '250624_01676_.jpg', '200624_01364_.jpg', '280624_01379_.jpg', '040724_01167_.jpg', '210624_0142_.jpg', '220624_0195_.jpg', '130624_01790_.jpg', '270524_01464_.jpg', '040724_0171_.jpg', '310524_01803_.jpg', '110624_01633_.jpg', '280624_01527_.jpg', '280624_01300_.jpg', '050724_01258_.jpg', '280624_01277_.jpg', '240624_01414_.jpg', '300524_01706_.jpg', '210624_01860_.jpg', '260624_0131_.jpg', '240624_01269_.jpg', '280624_01173_.jpg', '290524_01650_.jpg', '250624_01603_.jpg', '290524_01613_.jpg', '220624_0169_.jpg', '200624_01137_.jpg', '280624_01144_.jpg', '250624_0189_.jpg', '210624_01785_.jpg', '270524_01432_.jpg', '200624_01287_.jpg', '290624_01432_.jpg', '290624_01170_.jpg', '250624_01611_.jpg', '050724_01296_.jpg', '270524_01544_.jpg', '050724_01284_.jpg', '280624_01517_.jpg', '210624_01577_.jpg', '220624_01213_.jpg', '050724_01239_.jpg', '290624_01354_.jpg', '240624_01279_.jpg', '280624_01268_.jpg', '200624_0197_.jpg', '040724_01114_.jpg', '140624_011039_.jpg', '050724_01211_.jpg', '290524_01653_.jpg', '050724_01369_.jpg', '230524_0114_.jpg', '250624_01568_.jpg', '270524_01483_.jpg', '250624_01644_.jpg', '200624_01156_.jpg', '280624_01330_.jpg', '110624_01591_.jpg', '120624_01723_.jpg', '040724_0172_.jpg', '250624_01581_.jpg', '260624_0137_.jpg', '290624_01221_.jpg', '250624_01815_.jpg', '290624_01212_.jpg', '250624_01889_.jpg', '300524_01718_.jpg', '250624_01575_.jpg', '250624_01905_.jpg', '210624_01636_.jpg', '050724_01401_.jpg', '250624_01894_.jpg', '310524_01819_.jpg', '250624_01782_.jpg', '200624_0146_.jpg', '220624_017_.jpg', '040724_01151_.jpg', '280624_01575_.jpg', '250624_01721_.jpg', '270524_01494_.jpg', '300524_01679_.jpg', '270524_01525_.jpg', '040724_0117_.jpg', '210624_01682_.jpg', '270524_01452_.jpg', '220624_01352_.jpg', '200624_0164_.jpg', '300524_01790_.jpg', '050724_01363_.jpg', '240624_01413_.jpg', '290524_01617_.jpg', '050724_01240_.jpg', '290624_01254_.jpg', '040724_01185_.jpg', '240624_01384_.jpg', '310524_01837_.jpg', '050724_01365_.jpg', '050724_01287_.jpg', '220624_01393_.jpg', '270524_01469_.jpg', '040724_0189_.jpg', '200624_0181_.jpg', '210624_01610_.jpg', '220624_0154_.jpg', '280624_01316_.jpg', '240624_01271_.jpg', '220624_01276_.jpg', '200624_01410_.jpg', '220624_01171_.jpg', '050724_01404_.jpg', '250624_01602_.jpg', '040724_01173_.jpg', '100624_01456_.jpg', '050724_01249_.jpg', '250624_01663_.jpg', '210624_01696_.jpg', '220624_01222_.jpg', '250624_01706_.jpg', '290624_01300_.jpg', '240624_01339_.jpg', '260624_01116_.jpg', '210624_0130_.jpg', '290624_01288_.jpg', '210624_01877_.jpg', '290624_01564_.jpg', '050724_01224_.jpg', '260624_0180_.jpg', '200624_01331_.jpg', '200624_01111_.jpg', '280624_01156_.jpg', '260624_01113_.jpg', '050724_01341_.jpg', '270524_01486_.jpg', '250624_01559_.jpg', '050724_01338_.jpg', '060624_0164_.jpg', '280624_01591_.jpg', '220624_0196_.jpg', '300524_01766_.jpg', '270524_01466_.jpg', '040724_01170_.jpg', '260624_01133_.jpg', '040724_0154_.jpg', '210624_0110_.jpg', '250624_01574_.jpg', '050724_01382_.jpg', '210624_01596_.jpg', '070624_01245_.jpg', '130624_01804_.jpg', '120624_01717_.jpg', '040724_01122_.jpg', '270524_01441_.jpg', '270524_01472_.jpg', '240624_01329_.jpg', '120624_01745_.jpg', '260624_01494_.jpg', '110624_01583_.jpg', '300524_01723_.jpg', '050724_01298_.jpg', '290624_01341_.jpg', '280624_01288_.jpg', '280624_01487_.jpg', '280624_01157_.jpg', '210624_01855_.jpg', '050724_01366_.jpg', '280624_01287_.jpg', '210624_01807_.jpg', '110624_01536_.jpg', '260624_0161_.jpg', '290524_01580_.jpg', '200624_01294_.jpg', '210624_01764_.jpg', '120624_01730_.jpg', '220624_01343_.jpg', '210624_01571_.jpg', '050724_01222_.jpg', '250624_01583_.jpg', '260624_0143_.jpg', '200624_01324_.jpg', '280624_0117_.jpg', '200624_01430_.jpg', '050724_01400_.jpg', '040724_011_.jpg', '050724_01408_.jpg', '210624_0121_.jpg', '200624_01172_.jpg', '050724_01413_.jpg', '250624_01532_.jpg', '260624_01180_.jpg', '280624_01605_.jpg', '280624_01221_.jpg', '290624_01361_.jpg', '300524_01737_.jpg', '040724_01135_.jpg', '290624_01496_.jpg', '250624_01610_.jpg', '040724_01147_.jpg', '220624_01211_.jpg', '200624_0189_.jpg', '050724_01388_.jpg', '290624_01238_.jpg', '040724_01149_.jpg', '290624_01330_.jpg', '290624_01592_.jpg', '300524_01791_.jpg', '110624_01579_.jpg', '270524_01492_.jpg', '270524_01491_.jpg', '220624_0122_.jpg', '250624_01729_.jpg', '050724_01203_.jpg', '270524_01459_.jpg', '100624_01448_.jpg', '050724_01295_.jpg', '260624_0129_.jpg', '250624_0117_.jpg', '210624_01663_.jpg', '110624_01576_.jpg', '040724_0160_.jpg', '050724_01299_.jpg', '040724_0144_.jpg', '050724_01290_.jpg', '050724_01219_.jpg', '130624_01801_.jpg', '280624_01119_.jpg', '210624_01689_.jpg', '280624_01502_.jpg', '050724_01266_.jpg', '040724_0166_.jpg', '300524_01760_.jpg', '250624_01646_.jpg', '300524_01699_.jpg', '250624_01768_.jpg', '260624_0125_.jpg', '050724_01216_.jpg', '250624_0111_.jpg', '050724_01356_.jpg', '250624_01707_.jpg', '040724_01161_.jpg', '040724_01144_.jpg', '280624_0154_.jpg', '040724_01139_.jpg', '280624_0127_.jpg', '280624_01239_.jpg', '290524_01642_.jpg', '100624_01444_.jpg', '210624_01644_.jpg', '210624_01897_.jpg', '290524_01619_.jpg', '280624_01472_.jpg', '290524_01616_.jpg', '120624_01779_.jpg', '220624_0164_.jpg']\n"
     ]
    },
    {
     "name": "stderr",
     "output_type": "stream",
     "text": [
      "\n"
     ]
    }
   ],
   "source": [
    "# folders=['holes','rotten']\n",
    "# path='D:\\Internship\\Mask_Generation\\seefeaturesAndselectimages'\n",
    "\n",
    "import cv2\n",
    "import numpy as np\n",
    "import os\n",
    "from tqdm import tqdm\n",
    "\n",
    "\n",
    "\n",
    "# Set the path to the image folder\n",
    "\n",
    "def count_black_images(folder_path):\n",
    "    black_names=[]\n",
    "    counter_black=0\n",
    "    all_count=0\n",
    "    imag_with_features=[]\n",
    "#     new_image_dir=r'D:\\Internship\\Mask_Generation\\seefeaturesAndselectimages\\new_img'\n",
    "#     new_ho_mask_dir=r'D:\\Internship\\Mask_Generation\\seefeaturesAndselectimages\\new_holes_mask'\n",
    "    # Loop through all images in the folder\n",
    "    for filename in tqdm(os.listdir(folder_path)):\n",
    "        # Read the image\n",
    "        img = cv2.imread(os.path.join(folder_path, filename))\n",
    "\n",
    "        # Convert the image to grayscale\n",
    "        gray = cv2.cvtColor(img, cv2.COLOR_BGR2GRAY)\n",
    "        all_count+=1\n",
    "        # Check if all pixels in the image are pure black (0)\n",
    "        if np.all(gray == 0):\n",
    "#             black_names.append(filename)\n",
    "            counter_black+=1\n",
    "            \n",
    "        else:\n",
    "            imag_with_features.append(filename)\n",
    "            \n",
    "#     print(\"Total images with feature are\",(all_count-counter_black))\n",
    "    print(len(imag_with_features))\n",
    "    print(imag_with_features)       \n",
    "    return imag_with_features\n",
    "\n",
    "folder_path  =\"/home/agrograde/Desktop/13th_july_2024/image_path/Rotten\"\n",
    "# folder_path = r'D:\\Internship\\Mask_Generation\\seefeaturesAndselectimages\\rotten'\n",
    "\n",
    "image_names=count_black_images(folder_path)\n",
    "\n",
    "\n"
   ]
  },
  {
   "cell_type": "markdown",
   "id": "2d559052-de9e-4405-bb95-dfaa0debca41",
   "metadata": {},
   "source": [
    "## copying Rotten Images"
   ]
  },
  {
   "cell_type": "code",
   "execution_count": 10,
   "id": "787b604d-5bf8-4496-a5b2-360b5e6f7bf2",
   "metadata": {},
   "outputs": [],
   "source": [
    "#copy to des folder\n",
    "\n",
    "import os\n",
    "import shutil\n",
    "\"\"\"here we will give the path to valid images and masks\"\"\"\n",
    "# specify the source folder containing the images\n",
    "source_folder = r'/home/agrograde/Desktop/13th_july_2024/val_img_msk'\n",
    "\n",
    "# specify the destination folder\n",
    "destination_folder = r'/home/agrograde/Desktop/13th_july_2024/augmentation/rotten_images'\n",
    "\n",
    "# iterate over each image name in the list\n",
    "for image_name in image_names:\n",
    "    # construct the full path to the image file\n",
    "    source_path = os.path.join(source_folder, image_name)\n",
    "    \n",
    "    # construct the full path to the destination file\n",
    "    destination_path = os.path.join(destination_folder, image_name)\n",
    "    \n",
    "    # use shutil.copy2 to copy the file to the destination folder\n",
    "    shutil.copy2(source_path, destination_path)\n"
   ]
  },
  {
   "cell_type": "markdown",
   "id": "9663b88b-f5e9-44ee-b8b5-5f16a9d852f5",
   "metadata": {},
   "source": [
    "## copying respective Rotten masks"
   ]
  },
  {
   "cell_type": "code",
   "execution_count": 11,
   "id": "e092543e-49d5-4ef0-b4a0-1139a7d51491",
   "metadata": {},
   "outputs": [],
   "source": [
    "import os\n",
    "import shutil\n",
    "\n",
    "for image_name in image_names:\n",
    "    if os.path.exists(os.path.join(source_folder, image_name[:-4] + \"_color_mask.png\")):\n",
    "        src = os.path.join(source_folder, image_name[:-4] + \"_color_mask.png\")\n",
    "        dest_folder = \"/home/agrograde/Desktop/13th_july_2024/augmentation/rotten_images\"\n",
    "        dest = os.path.join(dest_folder, image_name[:-4] + \"_color_mask.png\")\n",
    "        shutil.copy(src, dest)\n"
   ]
  },
  {
   "cell_type": "code",
   "execution_count": null,
   "id": "792b864f-c444-4a7a-9bc0-e4e2df6fa757",
   "metadata": {},
   "outputs": [],
   "source": []
  },
  {
   "cell_type": "markdown",
   "id": "d7ac5740-e8e3-4510-8c58-ac272fc77322",
   "metadata": {},
   "source": [
    "## Augmentaion of Rotten Class"
   ]
  },
  {
   "cell_type": "code",
   "execution_count": 2,
   "id": "a06c2ae0-f64f-401f-aa49-ff9f82016b44",
   "metadata": {},
   "outputs": [],
   "source": [
    "import os\n",
    "import cv2\n",
    "from tqdm import tqdm\n",
    "from glob import glob\n",
    "import albumentations as A\n",
    "from albumentations import CenterCrop,RandomRotate90,HorizontalFlip,VerticalFlip\n",
    "import shutil"
   ]
  },
  {
   "cell_type": "markdown",
   "id": "34b48364-fc8c-4551-86bd-71bc3df6e52d",
   "metadata": {},
   "source": [
    "### Separating Rotten images and masks of separated Rotten images and its masks into different folder"
   ]
  },
  {
   "cell_type": "code",
   "execution_count": 3,
   "id": "f29b8a9b-3643-4e9c-abaf-b170f0a22ef8",
   "metadata": {},
   "outputs": [],
   "source": [
    "rotten_image = r\"/home/agrograde/Desktop/13th_july_2024/augmentation/rotten_imgs\"\n",
    "rotten_mask = r\"/home/agrograde/Desktop/13th_july_2024/augmentation/rotten_msks\"\n",
    "base_img_msk = r\"/home/agrograde/Desktop/13th_july_2024/augmentation/rotten_img_msk\""
   ]
  },
  {
   "cell_type": "code",
   "execution_count": 14,
   "id": "835bea98-9898-47e4-b45b-c8501b7b998a",
   "metadata": {},
   "outputs": [],
   "source": [
    "for i in os.listdir(base_img_msk):\n",
    "    if i.endswith(\".jpg\"):\n",
    "        img_src = os.path.join(base_img_msk,i)\n",
    "        dest_img_folder = os.path.join(rotten_image,i)\n",
    "        shutil.copy(img_src,dest_img_folder)\n",
    "    if i.endswith(\"png\"):\n",
    "        msk_src = os.path.join(base_img_msk,i)\n",
    "        dest_msk_folder = os.path.join(rotten_mask,i)\n",
    "        shutil.copy(msk_src,dest_msk_folder)"
   ]
  },
  {
   "cell_type": "code",
   "execution_count": 6,
   "id": "b8b6af6d-1dfc-4478-b27d-127a5cbbe4ff",
   "metadata": {},
   "outputs": [],
   "source": []
  },
  {
   "cell_type": "markdown",
   "id": "f20d2804-1bd1-41df-88f0-0b53d7ba060e",
   "metadata": {},
   "source": [
    "### mention the rotten images and rotten masks folder name here"
   ]
  },
  {
   "cell_type": "code",
   "execution_count": null,
   "id": "3d4e619f-cf28-46e6-8155-15ee6e085598",
   "metadata": {},
   "outputs": [],
   "source": []
  },
  {
   "cell_type": "code",
   "execution_count": 7,
   "id": "e3ecac95-b440-435f-abb3-c44e34abae65",
   "metadata": {},
   "outputs": [],
   "source": [
    "def load_path(path):\n",
    "    images = sorted(glob(os.path.join(path,\"rotten_imgs/*\")))\n",
    "    masks = sorted(glob(os.path.join(path,\"rotten_msks/*\")))\n",
    "    return images,masks"
   ]
  },
  {
   "cell_type": "code",
   "execution_count": 9,
   "id": "3feb88de-d2e3-4609-a6a7-b2745c4877d8",
   "metadata": {},
   "outputs": [],
   "source": [
    "path = r\"/home/agrograde/Desktop/13th_july_2024/augmentation\""
   ]
  },
  {
   "cell_type": "code",
   "execution_count": 10,
   "id": "d739d105-c773-4066-ae68-ff045e7a74bc",
   "metadata": {},
   "outputs": [
    {
     "name": "stdout",
     "output_type": "stream",
     "text": [
      "original images :919 and masks 919\n"
     ]
    }
   ],
   "source": [
    "images,masks = load_path(path)\n",
    "print(f\"original images :{len(images)} and masks {len(masks)}\")"
   ]
  },
  {
   "cell_type": "code",
   "execution_count": 11,
   "id": "0c7d91ac-375e-493e-b2b6-5858ea7eea59",
   "metadata": {},
   "outputs": [],
   "source": [
    "def create_dir(path):\n",
    "    if not os.path.exists(path):\n",
    "        os.makedirs(path)"
   ]
  },
  {
   "cell_type": "markdown",
   "id": "dbe4610c-f6a7-4b32-9509-f37b4298b627",
   "metadata": {},
   "source": [
    "### mention the augmentation dir dor both aug rotten images and aug rotten masks and create it newly and should  be inside the main augmentation folder"
   ]
  },
  {
   "cell_type": "code",
   "execution_count": 12,
   "id": "d1c2e437-4edc-4c0a-b5e0-9d4f1a31da57",
   "metadata": {},
   "outputs": [],
   "source": [
    "create_dir(\"/home/agrograde/Desktop/13th_july_2024/augmentation/aug_ro_msks\")\n",
    "create_dir(\"/home/agrograde/Desktop/13th_july_2024/augmentation/aug_ro_imgs\")"
   ]
  },
  {
   "cell_type": "code",
   "execution_count": 14,
   "id": "d3f22772-dd4a-4788-9e74-53daca3850fe",
   "metadata": {},
   "outputs": [],
   "source": [
    "def augment_data(images,masks,save_path,augment = False):\n",
    "    H = 224\n",
    "    W = 224\n",
    "    for x,y in tqdm(zip(images,masks),total=len(images)):\n",
    "        name  = x.split(\"/\")[-1].split(\".\")\n",
    "        #print(name)\n",
    "        image_name = name[0]\n",
    "        image_extn = name[1]\n",
    "        name  = y.split(\"/\")[-1].split(\".\")\n",
    "        mask_name = name[0]\n",
    "        mask_extn = name[1]\n",
    "        \n",
    "        x = cv2.imread(x,cv2.IMREAD_COLOR)\n",
    "        y = cv2.imread(y,cv2.IMREAD_COLOR)\n",
    "        #print(x.shape,y.shape)\n",
    "        if augment == True:\n",
    "            # aug = HorizontalFlip(p = 1.0)\n",
    "            # augmented = aug(image = x, mask = y)\n",
    "            # x1 = augmented[\"image\"]\n",
    "            # y1 = augmented[\"mask\"]\n",
    "            \n",
    "            \n",
    "            aug = VerticalFlip(p = 1.0)\n",
    "            augmented = aug(image = x, mask = y)\n",
    "            x2 = augmented[\"image\"]\n",
    "            y2 = augmented[\"mask\"]\n",
    "\n",
    "            aug = RandomRotate90(p=1.0)\n",
    "            augmented = aug(image = x, mask = y)\n",
    "            x3 = augmented[\"image\"]\n",
    "            y3 = augmented[\"mask\"]\n",
    "            \n",
    "            \n",
    "            \n",
    "            save_images = [x2,x3]\n",
    "            save_masks = [y2,y3]\n",
    "            pass\n",
    "        else:\n",
    "            save_images = [x]\n",
    "            save_masks = [y]\n",
    "        idx = 0\n",
    "        for i,m in zip(save_images,save_masks):\n",
    "#             i = cv2.resize(i,(W,H))\n",
    "#             m = cv2.resize(m,(W,H))\n",
    "            \n",
    "            tmp_img_name = f\"{idx}{image_name}.{image_extn}\"\n",
    "            tmp_msk_name = f\"{idx}{mask_name}.{mask_extn}\"\n",
    "            image_path = os.path.join(save_path,\"aug_ro_imgs\",tmp_img_name) ## here define the new created aug_folder name for ro_aug_imgs\n",
    "            mask_path = os.path.join(save_path,\"aug_ro_msks\",tmp_msk_name)## here define for the newly crested aug_msks name\n",
    "            cv2.imwrite(image_path,i)\n",
    "            cv2.imwrite(mask_path,m)\n",
    "            idx = idx+1\n",
    "            \n",
    "    \n",
    "        \n",
    "        \n",
    "        \n",
    "\n",
    "    "
   ]
  },
  {
   "cell_type": "markdown",
   "id": "a913c8ea-3a3f-42b5-876d-434548f00099",
   "metadata": {},
   "source": [
    "### give the save path as the base path "
   ]
  },
  {
   "cell_type": "code",
   "execution_count": 15,
   "id": "19e9991a-4b7e-45a3-90fb-e3e2f20cde9b",
   "metadata": {},
   "outputs": [
    {
     "name": "stderr",
     "output_type": "stream",
     "text": [
      "100%|█████████████████████████████████████████| 919/919 [01:04<00:00, 14.34it/s]\n"
     ]
    }
   ],
   "source": [
    "save_path = \"/home/agrograde/Desktop/13th_july_2024/augmentation\"\n",
    "augment_data(images,masks,save_path,augment = True)"
   ]
  },
  {
   "cell_type": "markdown",
   "id": "f946f005-97ce-40ed-a01c-48836fe18349",
   "metadata": {},
   "source": [
    "### Done successfully"
   ]
  },
  {
   "cell_type": "code",
   "execution_count": null,
   "id": "b5187920-2602-49a1-ab52-18d5e8a4d4a9",
   "metadata": {},
   "outputs": [],
   "source": []
  },
  {
   "cell_type": "markdown",
   "id": "beb02cd8-d769-47b1-a34e-4fc4b898f3c7",
   "metadata": {},
   "source": [
    "## Add the aug_rotten images and aug rotten masks to the main val image and maks by doing a new aug_rotten_val_imgs_msks"
   ]
  },
  {
   "cell_type": "markdown",
   "id": "1f052543-35ce-4f9d-8701-414eb1511b2a",
   "metadata": {},
   "source": [
    "### masks generation again on full data"
   ]
  },
  {
   "cell_type": "code",
   "execution_count": 16,
   "id": "daa676cc-136a-4d56-a91f-f86863355e1b",
   "metadata": {},
   "outputs": [],
   "source": [
    "\n",
    "import os\n",
    "\n",
    "# Directory where folders will be created\n",
    "directory = r\"/home/agrograde/Desktop/13th_july_2024/aug_ro_val_imgs_msks/image_path\"\n",
    "\n",
    "# List of folder names\n",
    "folders=['images','Background','Black_skin','Black_smut','Damaged','Double','Fungus','Hollow_stem','Onion','Peeled','Rotten','Sprout','White_onion','Winter_onion']\n",
    "#folders=['images','Background','Black_smut','Peeled','Rotten','Sprout']\n",
    "\n",
    "# Loop through the list of folders and create each folder\n",
    "for folder in folders:\n",
    "    # Create the full path for the folder\n",
    "    folder_path = os.path.join(directory, folder)\n",
    "    # Create the folder if it doesn't exist already\n",
    "    if not os.path.exists(folder_path):\n",
    "        os.makedirs(folder_path)\n"
   ]
  },
  {
   "cell_type": "code",
   "execution_count": 17,
   "id": "471f28af-77c6-4048-95c5-6e368ec281e2",
   "metadata": {},
   "outputs": [
    {
     "name": "stderr",
     "output_type": "stream",
     "text": [
      "100%|█████████████████████████████████████| 10234/10234 [31:44<00:00,  5.37it/s]"
     ]
    },
    {
     "name": "stdout",
     "output_type": "stream",
     "text": [
      "['0280624_01319__color_mask.png']\n"
     ]
    },
    {
     "name": "stderr",
     "output_type": "stream",
     "text": [
      "\n"
     ]
    }
   ],
   "source": [
    "# Final Final for naming\n",
    "\"\"\"For using this code first create 2 folder first for storing original image and second for storing binary mask\n",
    "in this folder create 12 folder named discolored,cuts, holes etc. With Proper names\n",
    "\n",
    "\"\"\"\n",
    "import shutil\n",
    "import re\n",
    "import os\n",
    "import cv2\n",
    "import numpy as np\n",
    "from tqdm import tqdm\n",
    "\n",
    "all_images_with_annotations =r\"/home/agrograde/Desktop/13th_july_2024/aug_ro_val_imgs_msks/val_img_msk\"\n",
    "all_original_dir=r'/home/agrograde/Desktop/13th_july_2024/aug_ro_val_imgs_msks/image_path/images'\n",
    "all_binary_mask_dir=r\"/home/agrograde/Desktop/13th_july_2024/aug_ro_val_imgs_msks/image_path\"\n",
    "def create_mask(img,filename,all_binary_mask_dir):\n",
    "\n",
    "\n",
    "    Background_threshold = (11,255,45) \n",
    "    Black_skin_threshold = (128,128,0) \n",
    "    Black_smut_threshold = (43,59,60)\n",
    "    Damaged_threshold=(255,255,255)\n",
    "    Double_threshold = (255,255,0)\n",
    "    Fungus_threshold = (128,136,217) \n",
    "    Hollow_stem_threshold = (0,0,255)\n",
    "    Onion_threshold = (21,9,85) \n",
    "    Peeled_threshold =(255,51,252) \n",
    "    Rotten_threshold = (34,126,230) \n",
    "    Sprout_threshold =(0,255,255) \n",
    "    White_onion_threshold = (204,204,255) \n",
    "    Winter_onion_threshold =(76,0,153) \n",
    "\n",
    "\n",
    "\n",
    "\n",
    "    # Create the masks for the different features\n",
    "    Background_mask = np.zeros(img.shape[:2], np.uint8)\n",
    "    Background_mask[(img == Background_threshold).all(axis=-1)] = 255\n",
    "#     Black_skin_threshold\n",
    "    Black_skin_mask = np.zeros(img.shape[:2], np.uint8)\n",
    "    Black_skin_mask[(img == Black_skin_threshold).all(axis=-1)] = 255\n",
    "    \n",
    "    Black_smut_mask = np.zeros(img.shape[:2], np.uint8)\n",
    "    Black_smut_mask[(img == Black_smut_threshold).all(axis=-1)] = 255\n",
    "    \n",
    "    Damaged_mask = np.zeros(img.shape[:2], np.uint8)\n",
    "    Damaged_mask[(img == Damaged_threshold).all(axis=-1)] = 255\n",
    "    \n",
    "    Double_mask = np.zeros(img.shape[:2], np.uint8)\n",
    "    Double_mask[(img == Double_threshold).all(axis=-1)] = 255\n",
    "    \n",
    "    Fungus_mask = np.zeros(img.shape[:2], np.uint8)\n",
    "    Fungus_mask[(img == Fungus_threshold).all(axis=-1)] = 255\n",
    "    \n",
    "    Hollow_stem_mask = np.zeros(img.shape[:2], np.uint8)\n",
    "    Hollow_stem_mask[(img == Hollow_stem_threshold).all(axis=-1)] = 255\n",
    "    \n",
    "    Onion_mask = np.zeros(img.shape[:2], np.uint8)\n",
    "    Onion_mask[(img == Onion_threshold).all(axis=-1)] = 255\n",
    "    \n",
    "    Peeled_mask = np.zeros(img.shape[:2], np.uint8)\n",
    "    Peeled_mask[(img == Peeled_threshold).all(axis=-1)] = 255\n",
    "    \n",
    "    Rotten_mask = np.zeros(img.shape[:2], np.uint8)\n",
    "    Rotten_mask[(img == Rotten_threshold).all(axis=-1)] = 255\n",
    "    \n",
    "    Sprout_mask = np.zeros(img.shape[:2], np.uint8)\n",
    "    Sprout_mask[(img == Sprout_threshold).all(axis=-1)] = 255\n",
    "    \n",
    "    White_onion_mask = np.zeros(img.shape[:2], np.uint8)\n",
    "    White_onion_mask[(img == White_onion_threshold).all(axis=-1)] = 255\n",
    "\n",
    "    Winter_onion_mask = np.zeros(img.shape[:2], np.uint8)\n",
    "    Winter_onion_mask[(img == Winter_onion_threshold).all(axis=-1)] = 255\n",
    "\n",
    "\n",
    "\n",
    "    \n",
    "\n",
    "    # Apply the masks\n",
    "    Background_result = cv2.bitwise_and(img, img, mask=Background_mask)\n",
    "    #converting \n",
    "    Background_result = cv2.cvtColor(Background_result,cv2.COLOR_BGR2GRAY)\n",
    "    Background_result[Background_result[:,:]>0]=255\n",
    "    Background_result = cv2.bitwise_not(Background_result)\n",
    "    \n",
    "    Black_skin_result = cv2.bitwise_and(img, img, mask=Black_skin_mask)\n",
    "    Black_skin_result = cv2.cvtColor(Black_skin_result,cv2.COLOR_BGR2GRAY)\n",
    "    Black_skin_result[Black_skin_result[:,:]>0]=255\n",
    "    \n",
    "    Black_smut_result = cv2.bitwise_and(img, img, mask=Black_smut_mask)\n",
    "    Black_smut_result = cv2.cvtColor(Black_smut_result,cv2.COLOR_BGR2GRAY)\n",
    "    Black_smut_result[Black_smut_result[:,:]>0]=255\n",
    "    \n",
    "    Damaged_result = cv2.bitwise_and(img, img, mask=Damaged_mask)\n",
    "    Damaged_result = cv2.cvtColor(Damaged_result,cv2.COLOR_BGR2GRAY)\n",
    "    Damaged_result[Damaged_result[:,:]>0]=255\n",
    "    \n",
    "    Double_result = cv2.bitwise_and(img, img, mask=Double_mask)\n",
    "    Double_result = cv2.cvtColor(Double_result,cv2.COLOR_BGR2GRAY)\n",
    "    Double_result[Double_result[:,:]>0]=255\n",
    "    \n",
    "    Fungus_result = cv2.bitwise_and(img, img, mask=Fungus_mask)\n",
    "    Fungus_result = cv2.cvtColor(Fungus_result,cv2.COLOR_BGR2GRAY)\n",
    "    Fungus_result[Fungus_result[:,:]>0]=255\n",
    "    \n",
    "    Hollow_stem_result = cv2.bitwise_and(img, img, mask=Hollow_stem_mask)\n",
    "    Hollow_stem_result = cv2.cvtColor(Hollow_stem_result,cv2.COLOR_BGR2GRAY)\n",
    "    Hollow_stem_result[Hollow_stem_result[:,:]>0]=255\n",
    "    \n",
    "    Onion_result = cv2.bitwise_and(img, img, mask=Onion_mask)\n",
    "    Onion_result = cv2.cvtColor(Onion_result,cv2.COLOR_BGR2GRAY)\n",
    "    Onion_result[Onion_result[:,:]>0]=255\n",
    "    \n",
    "    Peeled_result = cv2.bitwise_and(img, img, mask=Peeled_mask)\n",
    "    Peeled_result = cv2.cvtColor(Peeled_result,cv2.COLOR_BGR2GRAY)\n",
    "    Peeled_result[Peeled_result[:,:]>0]=255\n",
    "\n",
    "    Rotten_result = cv2.bitwise_and(img, img, mask=Rotten_mask)\n",
    "    Rotten_result = cv2.cvtColor(Rotten_result,cv2.COLOR_BGR2GRAY)\n",
    "    Rotten_result[Rotten_result[:,:]>0]=255\n",
    "    \n",
    "    Sprout_result = cv2.bitwise_and(img, img, mask=Sprout_mask)\n",
    "    Sprout_result = cv2.cvtColor(Sprout_result,cv2.COLOR_BGR2GRAY)\n",
    "    Sprout_result[Sprout_result[:,:]>0]=255\n",
    "    \n",
    "    White_onion_result = cv2.bitwise_and(img, img, mask=White_onion_mask)\n",
    "    White_onion_result = cv2.cvtColor(White_onion_result,cv2.COLOR_BGR2GRAY)\n",
    "    White_onion_result[White_onion_result[:,:]>0]=255\n",
    "    \n",
    "    Winter_onion_result = cv2.bitwise_and(img, img, mask=Winter_onion_mask)\n",
    "    Winter_onion_result = cv2.cvtColor(Winter_onion_result,cv2.COLOR_BGR2GRAY)\n",
    "    Winter_onion_result[Winter_onion_result[:,:]>0]=255\n",
    "  \n",
    "      #for proper nameing\n",
    "    filename1=filename[:-15]+'.jpg'\n",
    "    filename2=filename[:-15]+'.jpg'\n",
    "    filename3=filename[:-15]+'.jpg'\n",
    "    filename4=filename[:-15]+'.jpg'\n",
    "    filename5=filename[:-15]+'.jpg'\n",
    "    filename6=filename[:-15]+'.jpg'\n",
    "    filename7=filename[:-15]+'.jpg'\n",
    "    filename8=filename[:-15]+'.jpg'\n",
    "    filename9=filename[:-15]+'.jpg'\n",
    "    filename10=filename[:-15]+'.jpg'\n",
    "    filename11=filename[:-15]+'.jpg'\n",
    "    filename12=filename[:-15]+'.jpg'\n",
    "    filename13=filename[:-15]+'.jpg'\n",
    "#folders=['images','Background','Black_skin','Black_smut','Damaged','Double','Fungus','Hollow_stem',\n",
    "# 'Onion','Peeled','Rotten','Sprout','White_onion','Winter_onion']\n",
    "\n",
    "    # Save the image\n",
    "    cv2.imwrite(os.path.join(all_binary_mask_dir ,'Background',filename1), Background_result)\n",
    "    cv2.imwrite(os.path.join(all_binary_mask_dir,'Black_skin',filename2), Black_skin_result)\n",
    "    cv2.imwrite(os.path.join(all_binary_mask_dir,'Black_smut',filename3), Black_smut_result)\n",
    "    cv2.imwrite(os.path.join(all_binary_mask_dir,'Damaged',filename4), Damaged_result)\n",
    "    cv2.imwrite(os.path.join(all_binary_mask_dir,'Double',filename5), Double_result)\n",
    "    cv2.imwrite(os.path.join(all_binary_mask_dir,'Fungus',filename6), Fungus_result)\n",
    "    cv2.imwrite(os.path.join(all_binary_mask_dir,'Hollow_stem',filename7), Hollow_stem_result)\n",
    "    cv2.imwrite(os.path.join(all_binary_mask_dir,'Onion',filename8), Onion_result)\n",
    "    cv2.imwrite(os.path.join(all_binary_mask_dir,'Peeled',filename9), Peeled_result)\n",
    "    cv2.imwrite(os.path.join(all_binary_mask_dir,'Sprout',filename10),Sprout_result )\n",
    "    cv2.imwrite(os.path.join(all_binary_mask_dir,'Rotten',filename11),Rotten_result )\n",
    "    cv2.imwrite(os.path.join(all_binary_mask_dir,'White_onion',filename12), White_onion_result)\n",
    "    cv2.imwrite(os.path.join(all_binary_mask_dir,'Winter_onion',filename12), Winter_onion_result)  \n",
    "# Destroy all windows\n",
    "    #cv2.destroyAllWindows()\n",
    "\n",
    "# Create the directory to save the noisy images, if it doesn't exist\n",
    "if not os.path.exists(all_binary_mask_dir):\n",
    "    os.makedirs(all_binary_mask_dir)\n",
    "    \n",
    "error_file=[]    \n",
    "# Loop through all images in the original images directory\n",
    "for filename in tqdm(os.listdir(all_images_with_annotations)):\n",
    "    pattern = r'^[\\d_]+$'   \n",
    "    #first if for selecting only color mask images and applying function\n",
    "    if (filename[-15:]== \"_color_mask.png\"):\n",
    "        img = cv2.imread(os.path.join(all_images_with_annotations, filename))\n",
    "    \n",
    "        create_mask(img,filename,all_binary_mask_dir)\n",
    "    \n",
    "    #Second  if for storing original images in given dir\n",
    "    if (filename[-4:]=='.jpg'):\n",
    "        \n",
    "        # create the full path to the source image file\n",
    "        src_image_path = os.path.join(all_images_with_annotations, filename)\n",
    "        # create the full path to the destination image file\n",
    "        dest_image_path = os.path.join(all_original_dir, filename)\n",
    "        shutil.copy(src_image_path, dest_image_path)\n",
    "        \n",
    "else:\n",
    "    error_file.append(filename)\n",
    "        \n",
    "print(error_file)"
   ]
  },
  {
   "cell_type": "markdown",
   "id": "fe4a3f11-0f02-42bc-bc7c-3d9fd1f51e44",
   "metadata": {},
   "source": [
    "## Training stats"
   ]
  },
  {
   "cell_type": "code",
   "execution_count": 18,
   "id": "cebb0c5b-e695-4862-9535-8da5c6401737",
   "metadata": {},
   "outputs": [
    {
     "name": "stdout",
     "output_type": "stream",
     "text": [
      "Background\n"
     ]
    },
    {
     "name": "stderr",
     "output_type": "stream",
     "text": [
      "100%|██████████████████████████████████████| 5117/5117 [00:17<00:00, 286.36it/s]\n"
     ]
    },
    {
     "name": "stdout",
     "output_type": "stream",
     "text": [
      "Total images with feature are 5117 Background folder\n",
      "Black_skin\n"
     ]
    },
    {
     "name": "stderr",
     "output_type": "stream",
     "text": [
      "100%|██████████████████████████████████████| 5117/5117 [00:16<00:00, 305.39it/s]\n"
     ]
    },
    {
     "name": "stdout",
     "output_type": "stream",
     "text": [
      "Total images with feature are 0 Black_skin folder\n",
      "Black_smut\n"
     ]
    },
    {
     "name": "stderr",
     "output_type": "stream",
     "text": [
      "100%|██████████████████████████████████████| 5117/5117 [00:17<00:00, 299.79it/s]\n"
     ]
    },
    {
     "name": "stdout",
     "output_type": "stream",
     "text": [
      "Total images with feature are 3128 Black_smut folder\n",
      "Damaged\n"
     ]
    },
    {
     "name": "stderr",
     "output_type": "stream",
     "text": [
      "100%|██████████████████████████████████████| 5117/5117 [00:17<00:00, 297.74it/s]\n"
     ]
    },
    {
     "name": "stdout",
     "output_type": "stream",
     "text": [
      "Total images with feature are 5117 Damaged folder\n",
      "Double\n"
     ]
    },
    {
     "name": "stderr",
     "output_type": "stream",
     "text": [
      "100%|██████████████████████████████████████| 5117/5117 [00:17<00:00, 298.80it/s]\n"
     ]
    },
    {
     "name": "stdout",
     "output_type": "stream",
     "text": [
      "Total images with feature are 24 Double folder\n",
      "Fungus\n"
     ]
    },
    {
     "name": "stderr",
     "output_type": "stream",
     "text": [
      "100%|██████████████████████████████████████| 5117/5117 [00:16<00:00, 306.43it/s]\n"
     ]
    },
    {
     "name": "stdout",
     "output_type": "stream",
     "text": [
      "Total images with feature are 0 Fungus folder\n",
      "Hollow_stem\n"
     ]
    },
    {
     "name": "stderr",
     "output_type": "stream",
     "text": [
      "100%|██████████████████████████████████████| 5117/5117 [00:16<00:00, 304.29it/s]\n"
     ]
    },
    {
     "name": "stdout",
     "output_type": "stream",
     "text": [
      "Total images with feature are 0 Hollow_stem folder\n",
      "Onion\n"
     ]
    },
    {
     "name": "stderr",
     "output_type": "stream",
     "text": [
      "100%|██████████████████████████████████████| 5117/5117 [00:17<00:00, 290.36it/s]\n"
     ]
    },
    {
     "name": "stdout",
     "output_type": "stream",
     "text": [
      "Total images with feature are 5084 Onion folder\n",
      "Peeled\n"
     ]
    },
    {
     "name": "stderr",
     "output_type": "stream",
     "text": [
      "100%|██████████████████████████████████████| 5117/5117 [00:16<00:00, 301.62it/s]\n"
     ]
    },
    {
     "name": "stdout",
     "output_type": "stream",
     "text": [
      "Total images with feature are 2919 Peeled folder\n",
      "Rotten\n"
     ]
    },
    {
     "name": "stderr",
     "output_type": "stream",
     "text": [
      "100%|██████████████████████████████████████| 5117/5117 [00:17<00:00, 299.89it/s]\n"
     ]
    },
    {
     "name": "stdout",
     "output_type": "stream",
     "text": [
      "Total images with feature are 2757 Rotten folder\n",
      "Sprout\n"
     ]
    },
    {
     "name": "stderr",
     "output_type": "stream",
     "text": [
      "100%|██████████████████████████████████████| 5117/5117 [00:17<00:00, 297.71it/s]\n"
     ]
    },
    {
     "name": "stdout",
     "output_type": "stream",
     "text": [
      "Total images with feature are 11 Sprout folder\n",
      "White_onion\n"
     ]
    },
    {
     "name": "stderr",
     "output_type": "stream",
     "text": [
      "100%|██████████████████████████████████████| 5117/5117 [00:17<00:00, 295.17it/s]\n"
     ]
    },
    {
     "name": "stdout",
     "output_type": "stream",
     "text": [
      "Total images with feature are 0 White_onion folder\n",
      "Winter_onion\n"
     ]
    },
    {
     "name": "stderr",
     "output_type": "stream",
     "text": [
      "100%|██████████████████████████████████████| 5117/5117 [00:16<00:00, 306.19it/s]"
     ]
    },
    {
     "name": "stdout",
     "output_type": "stream",
     "text": [
      "Total images with feature are 0 Winter_onion folder\n"
     ]
    },
    {
     "name": "stderr",
     "output_type": "stream",
     "text": [
      "\n"
     ]
    }
   ],
   "source": [
    "folders=['Background','Black_skin','Black_smut','Damaged','Double','Fungus','Hollow_stem','Onion','Peeled','Rotten','Sprout','White_onion','Winter_onion']\n",
    "\n",
    "import cv2\n",
    "import numpy as np\n",
    "import os\n",
    "from tqdm import tqdm\n",
    "\n",
    "# Set the path to the image folder\n",
    "\n",
    "def count_black_images(folder_path):\n",
    "    black_names=[]\n",
    "    counter_black=0\n",
    "    all_count=0\n",
    "    # Loop through all images in the folder\n",
    "    for filename in tqdm(os.listdir(folder_path)):\n",
    "        # Read the image\n",
    "        img = cv2.imread(os.path.join(folder_path, filename))\n",
    "\n",
    "        # Convert the image to grayscale\n",
    "        gray = cv2.cvtColor(img, cv2.COLOR_BGR2GRAY)\n",
    "        all_count+=1\n",
    "        # Check if all pixels in the image are pure black (0)\n",
    "        if np.all(gray == 0):\n",
    "            black_names.append(filename)\n",
    "            counter_black+=1\n",
    "    print(\"Total images with feature are\",(all_count-counter_black), i, 'folder')\n",
    "               \n",
    "    return f\"Total blank images are {i} {counter_black}\"\n",
    "\n",
    "folder_path = r\"/home/agrograde/Desktop/13th_july_2024/aug_ro_val_imgs_msks/image_path\"\n",
    "\n",
    "\n",
    "for i in (folders):\n",
    "    \n",
    "    folder_path = r\"/home/agrograde/Desktop/13th_july_2024/aug_ro_val_imgs_msks/image_path\"\n",
    "    folder_path=folder_path+'/'+i+'/'\n",
    "    print(i)\n",
    "    count_black_images(folder_path)\n"
   ]
  },
  {
   "cell_type": "code",
   "execution_count": null,
   "id": "6364c773-12ac-49c9-b524-22a89ddc77ab",
   "metadata": {},
   "outputs": [],
   "source": []
  }
 ],
 "metadata": {
  "kernelspec": {
   "display_name": "Python 3 (ipykernel)",
   "language": "python",
   "name": "python3"
  },
  "language_info": {
   "codemirror_mode": {
    "name": "ipython",
    "version": 3
   },
   "file_extension": ".py",
   "mimetype": "text/x-python",
   "name": "python",
   "nbconvert_exporter": "python",
   "pygments_lexer": "ipython3",
   "version": "3.9.18"
  }
 },
 "nbformat": 4,
 "nbformat_minor": 5
}
